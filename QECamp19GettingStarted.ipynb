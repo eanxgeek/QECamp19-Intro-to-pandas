{
  "nbformat": 4,
  "nbformat_minor": 0,
  "metadata": {
    "colab": {
      "name": "QECamp19GettingStarted.ipynb",
      "version": "0.3.2",
      "provenance": [],
      "collapsed_sections": [],
      "include_colab_link": true
    },
    "kernelspec": {
      "name": "python3",
      "display_name": "Python 3"
    }
  },
  "cells": [
    {
      "cell_type": "markdown",
      "metadata": {
        "id": "view-in-github",
        "colab_type": "text"
      },
      "source": [
        "<a href=\"https://colab.research.google.com/github/eanxgeek/QECamp19-Intro-to-pandas/blob/master/QECamp19GettingStarted.ipynb\" target=\"_parent\"><img src=\"https://colab.research.google.com/assets/colab-badge.svg\" alt=\"Open In Colab\"/></a>"
      ]
    },
    {
      "metadata": {
        "id": "sIGbHXOgzEDm",
        "colab_type": "text"
      },
      "cell_type": "markdown",
      "source": [
        "# GETTING STARTED\n",
        "\n",
        "\n"
      ]
    },
    {
      "metadata": {
        "id": "MhsSMBsR4MB6",
        "colab_type": "text"
      },
      "cell_type": "markdown",
      "source": [
        "## Imports\n"
      ]
    },
    {
      "metadata": {
        "id": "YWTp3_NpwTBD",
        "colab_type": "code",
        "colab": {}
      },
      "cell_type": "code",
      "source": [
        "import pandas as pd\n",
        "import numpy as np\n",
        "import matplotlib.pyplot as plt"
      ],
      "execution_count": 0,
      "outputs": []
    },
    {
      "metadata": {
        "id": "jjIJEpWk4Q33",
        "colab_type": "text"
      },
      "cell_type": "markdown",
      "source": [
        "## Create a Dataframe\n",
        "Random numbers\n",
        "50 rows x 4 columns"
      ]
    },
    {
      "metadata": {
        "id": "V4v9A55JwYoV",
        "colab_type": "code",
        "colab": {}
      },
      "cell_type": "code",
      "source": [
        "randindx = []\n",
        "\n",
        "for x in range(0,50):\n",
        "  rs = pd.util.testing.rands(8)\n",
        "  randindx.append(rs)\n",
        "  \n",
        "df = pd.DataFrame(np.random.randn(50, 4), columns=list('ABCD'),\n",
        "                 index=randindx)"
      ],
      "execution_count": 0,
      "outputs": []
    },
    {
      "metadata": {
        "id": "dXzxfpiKzOlY",
        "colab_type": "code",
        "outputId": "866e854b-5aa4-4b77-a978-354ece0251aa",
        "colab": {
          "base_uri": "https://localhost:8080/",
          "height": 102
        }
      },
      "cell_type": "code",
      "source": [
        "df.dtypes"
      ],
      "execution_count": 3,
      "outputs": [
        {
          "output_type": "execute_result",
          "data": {
            "text/plain": [
              "A    float64\n",
              "B    float64\n",
              "C    float64\n",
              "D    float64\n",
              "dtype: object"
            ]
          },
          "metadata": {
            "tags": []
          },
          "execution_count": 3
        }
      ]
    },
    {
      "metadata": {
        "id": "nDU5ptFRwcAY",
        "colab_type": "code",
        "outputId": "c151e3c5-bf32-4f27-daa9-873557b94eb3",
        "colab": {
          "base_uri": "https://localhost:8080/",
          "height": 359
        }
      },
      "cell_type": "code",
      "source": [
        "df.head(n=10)"
      ],
      "execution_count": 4,
      "outputs": [
        {
          "output_type": "execute_result",
          "data": {
            "text/plain": [
              "                 A         B         C         D\n",
              "LVRaM3GY -0.134546  0.314280  0.073051 -0.502225\n",
              "VPCwBd4t -0.390136  0.715361  0.416386 -1.498131\n",
              "VqH3bFNg  0.966490 -1.221790  0.419239  0.924806\n",
              "rUa393xA -0.752026  0.041568 -1.396542 -0.130264\n",
              "f7FxGl6x -1.502617  0.219330 -0.620291  1.404741\n",
              "AsS9L3XA -0.153596 -0.217820  0.066727 -0.308272\n",
              "t9UfErDO -0.234475 -0.072713  1.400781  1.475822\n",
              "keqhqnYy -0.189298  0.333134  0.307258 -0.962742\n",
              "lMcH6MOF -0.511693  1.303593  0.293782  2.472975\n",
              "dlARmvTJ  0.883098 -0.026367 -0.707494  1.312973"
            ],
            "text/html": [
              "<div>\n",
              "<style scoped>\n",
              "    .dataframe tbody tr th:only-of-type {\n",
              "        vertical-align: middle;\n",
              "    }\n",
              "\n",
              "    .dataframe tbody tr th {\n",
              "        vertical-align: top;\n",
              "    }\n",
              "\n",
              "    .dataframe thead th {\n",
              "        text-align: right;\n",
              "    }\n",
              "</style>\n",
              "<table border=\"1\" class=\"dataframe\">\n",
              "  <thead>\n",
              "    <tr style=\"text-align: right;\">\n",
              "      <th></th>\n",
              "      <th>A</th>\n",
              "      <th>B</th>\n",
              "      <th>C</th>\n",
              "      <th>D</th>\n",
              "    </tr>\n",
              "  </thead>\n",
              "  <tbody>\n",
              "    <tr>\n",
              "      <th>LVRaM3GY</th>\n",
              "      <td>-0.134546</td>\n",
              "      <td>0.314280</td>\n",
              "      <td>0.073051</td>\n",
              "      <td>-0.502225</td>\n",
              "    </tr>\n",
              "    <tr>\n",
              "      <th>VPCwBd4t</th>\n",
              "      <td>-0.390136</td>\n",
              "      <td>0.715361</td>\n",
              "      <td>0.416386</td>\n",
              "      <td>-1.498131</td>\n",
              "    </tr>\n",
              "    <tr>\n",
              "      <th>VqH3bFNg</th>\n",
              "      <td>0.966490</td>\n",
              "      <td>-1.221790</td>\n",
              "      <td>0.419239</td>\n",
              "      <td>0.924806</td>\n",
              "    </tr>\n",
              "    <tr>\n",
              "      <th>rUa393xA</th>\n",
              "      <td>-0.752026</td>\n",
              "      <td>0.041568</td>\n",
              "      <td>-1.396542</td>\n",
              "      <td>-0.130264</td>\n",
              "    </tr>\n",
              "    <tr>\n",
              "      <th>f7FxGl6x</th>\n",
              "      <td>-1.502617</td>\n",
              "      <td>0.219330</td>\n",
              "      <td>-0.620291</td>\n",
              "      <td>1.404741</td>\n",
              "    </tr>\n",
              "    <tr>\n",
              "      <th>AsS9L3XA</th>\n",
              "      <td>-0.153596</td>\n",
              "      <td>-0.217820</td>\n",
              "      <td>0.066727</td>\n",
              "      <td>-0.308272</td>\n",
              "    </tr>\n",
              "    <tr>\n",
              "      <th>t9UfErDO</th>\n",
              "      <td>-0.234475</td>\n",
              "      <td>-0.072713</td>\n",
              "      <td>1.400781</td>\n",
              "      <td>1.475822</td>\n",
              "    </tr>\n",
              "    <tr>\n",
              "      <th>keqhqnYy</th>\n",
              "      <td>-0.189298</td>\n",
              "      <td>0.333134</td>\n",
              "      <td>0.307258</td>\n",
              "      <td>-0.962742</td>\n",
              "    </tr>\n",
              "    <tr>\n",
              "      <th>lMcH6MOF</th>\n",
              "      <td>-0.511693</td>\n",
              "      <td>1.303593</td>\n",
              "      <td>0.293782</td>\n",
              "      <td>2.472975</td>\n",
              "    </tr>\n",
              "    <tr>\n",
              "      <th>dlARmvTJ</th>\n",
              "      <td>0.883098</td>\n",
              "      <td>-0.026367</td>\n",
              "      <td>-0.707494</td>\n",
              "      <td>1.312973</td>\n",
              "    </tr>\n",
              "  </tbody>\n",
              "</table>\n",
              "</div>"
            ]
          },
          "metadata": {
            "tags": []
          },
          "execution_count": 4
        }
      ]
    },
    {
      "metadata": {
        "id": "Cr1HqjyBV6PP",
        "colab_type": "text"
      },
      "cell_type": "markdown",
      "source": [
        "# INTERROGATING THE DATAFRAME"
      ]
    },
    {
      "metadata": {
        "id": "MNA0OEvR4dqF",
        "colab_type": "text"
      },
      "cell_type": "markdown",
      "source": [
        "## Shape of Dataframe"
      ]
    },
    {
      "metadata": {
        "id": "Kx9MidzR4LPe",
        "colab_type": "code",
        "outputId": "94629a89-6855-4747-9289-25ee864a2146",
        "colab": {
          "base_uri": "https://localhost:8080/",
          "height": 34
        }
      },
      "cell_type": "code",
      "source": [
        "df.shape"
      ],
      "execution_count": 5,
      "outputs": [
        {
          "output_type": "execute_result",
          "data": {
            "text/plain": [
              "(50, 4)"
            ]
          },
          "metadata": {
            "tags": []
          },
          "execution_count": 5
        }
      ]
    },
    {
      "metadata": {
        "id": "9wjpVgasseh_",
        "colab_type": "text"
      },
      "cell_type": "markdown",
      "source": [
        "## Dataframe Describe"
      ]
    },
    {
      "metadata": {
        "id": "X39F06lOseCS",
        "colab_type": "code",
        "outputId": "283afe64-bc41-4b26-ba5f-19fbd49a8cce",
        "colab": {
          "base_uri": "https://localhost:8080/",
          "height": 297
        }
      },
      "cell_type": "code",
      "source": [
        "df.describe()"
      ],
      "execution_count": 6,
      "outputs": [
        {
          "output_type": "execute_result",
          "data": {
            "text/plain": [
              "               A          B          C          D\n",
              "count  50.000000  50.000000  50.000000  50.000000\n",
              "mean   -0.043923  -0.058114   0.144632   0.079606\n",
              "std     0.793398   1.074479   0.830969   1.296402\n",
              "min    -1.716505  -2.243291  -1.591943  -2.475896\n",
              "25%    -0.575486  -0.802990  -0.447575  -0.777556\n",
              "50%    -0.096101  -0.001489   0.080043   0.126538\n",
              "75%     0.393466   0.512020   0.445326   0.873518\n",
              "max     2.080676   2.458322   2.234351   2.820453"
            ],
            "text/html": [
              "<div>\n",
              "<style scoped>\n",
              "    .dataframe tbody tr th:only-of-type {\n",
              "        vertical-align: middle;\n",
              "    }\n",
              "\n",
              "    .dataframe tbody tr th {\n",
              "        vertical-align: top;\n",
              "    }\n",
              "\n",
              "    .dataframe thead th {\n",
              "        text-align: right;\n",
              "    }\n",
              "</style>\n",
              "<table border=\"1\" class=\"dataframe\">\n",
              "  <thead>\n",
              "    <tr style=\"text-align: right;\">\n",
              "      <th></th>\n",
              "      <th>A</th>\n",
              "      <th>B</th>\n",
              "      <th>C</th>\n",
              "      <th>D</th>\n",
              "    </tr>\n",
              "  </thead>\n",
              "  <tbody>\n",
              "    <tr>\n",
              "      <th>count</th>\n",
              "      <td>50.000000</td>\n",
              "      <td>50.000000</td>\n",
              "      <td>50.000000</td>\n",
              "      <td>50.000000</td>\n",
              "    </tr>\n",
              "    <tr>\n",
              "      <th>mean</th>\n",
              "      <td>-0.043923</td>\n",
              "      <td>-0.058114</td>\n",
              "      <td>0.144632</td>\n",
              "      <td>0.079606</td>\n",
              "    </tr>\n",
              "    <tr>\n",
              "      <th>std</th>\n",
              "      <td>0.793398</td>\n",
              "      <td>1.074479</td>\n",
              "      <td>0.830969</td>\n",
              "      <td>1.296402</td>\n",
              "    </tr>\n",
              "    <tr>\n",
              "      <th>min</th>\n",
              "      <td>-1.716505</td>\n",
              "      <td>-2.243291</td>\n",
              "      <td>-1.591943</td>\n",
              "      <td>-2.475896</td>\n",
              "    </tr>\n",
              "    <tr>\n",
              "      <th>25%</th>\n",
              "      <td>-0.575486</td>\n",
              "      <td>-0.802990</td>\n",
              "      <td>-0.447575</td>\n",
              "      <td>-0.777556</td>\n",
              "    </tr>\n",
              "    <tr>\n",
              "      <th>50%</th>\n",
              "      <td>-0.096101</td>\n",
              "      <td>-0.001489</td>\n",
              "      <td>0.080043</td>\n",
              "      <td>0.126538</td>\n",
              "    </tr>\n",
              "    <tr>\n",
              "      <th>75%</th>\n",
              "      <td>0.393466</td>\n",
              "      <td>0.512020</td>\n",
              "      <td>0.445326</td>\n",
              "      <td>0.873518</td>\n",
              "    </tr>\n",
              "    <tr>\n",
              "      <th>max</th>\n",
              "      <td>2.080676</td>\n",
              "      <td>2.458322</td>\n",
              "      <td>2.234351</td>\n",
              "      <td>2.820453</td>\n",
              "    </tr>\n",
              "  </tbody>\n",
              "</table>\n",
              "</div>"
            ]
          },
          "metadata": {
            "tags": []
          },
          "execution_count": 6
        }
      ]
    },
    {
      "metadata": {
        "id": "s7u8ZWNfTljs",
        "colab_type": "text"
      },
      "cell_type": "markdown",
      "source": [
        "## Dataframe Info\n"
      ]
    },
    {
      "metadata": {
        "id": "FYa4VBs-TjHW",
        "colab_type": "code",
        "outputId": "5b8589e7-8e4c-4c8d-d52d-cae9efc7faa6",
        "colab": {
          "base_uri": "https://localhost:8080/",
          "height": 170
        }
      },
      "cell_type": "code",
      "source": [
        "df.info()"
      ],
      "execution_count": 7,
      "outputs": [
        {
          "output_type": "stream",
          "text": [
            "<class 'pandas.core.frame.DataFrame'>\n",
            "Index: 50 entries, LVRaM3GY to 7KYb0A3p\n",
            "Data columns (total 4 columns):\n",
            "A    50 non-null float64\n",
            "B    50 non-null float64\n",
            "C    50 non-null float64\n",
            "D    50 non-null float64\n",
            "dtypes: float64(4)\n",
            "memory usage: 2.0+ KB\n"
          ],
          "name": "stdout"
        }
      ]
    },
    {
      "metadata": {
        "id": "vjWFnWObsCn8",
        "colab_type": "text"
      },
      "cell_type": "markdown",
      "source": [
        "## Data Types"
      ]
    },
    {
      "metadata": {
        "id": "1DtHEmBNs-iw",
        "colab_type": "text"
      },
      "cell_type": "markdown",
      "source": [
        "## Type()"
      ]
    },
    {
      "metadata": {
        "id": "ziivQpWnY7Jz",
        "colab_type": "code",
        "colab": {
          "base_uri": "https://localhost:8080/",
          "height": 34
        },
        "outputId": "363bd6e7-6e16-4158-8717-027b0486b3b2"
      },
      "cell_type": "code",
      "source": [
        "type(df)   # Dataframe"
      ],
      "execution_count": 8,
      "outputs": [
        {
          "output_type": "execute_result",
          "data": {
            "text/plain": [
              "pandas.core.frame.DataFrame"
            ]
          },
          "metadata": {
            "tags": []
          },
          "execution_count": 8
        }
      ]
    },
    {
      "metadata": {
        "id": "iKAswKB5tEvE",
        "colab_type": "code",
        "outputId": "5331f975-f9c1-4fbc-d869-0cdeea5b3683",
        "colab": {
          "base_uri": "https://localhost:8080/",
          "height": 34
        }
      },
      "cell_type": "code",
      "source": [
        "type(df.A) # A series within the dataframe"
      ],
      "execution_count": 9,
      "outputs": [
        {
          "output_type": "execute_result",
          "data": {
            "text/plain": [
              "pandas.core.series.Series"
            ]
          },
          "metadata": {
            "tags": []
          },
          "execution_count": 9
        }
      ]
    },
    {
      "metadata": {
        "id": "KJ-Ys8Bsc-nS",
        "colab_type": "code",
        "colab": {
          "base_uri": "https://localhost:8080/",
          "height": 119
        },
        "outputId": "3e90383a-d441-4f26-950b-7badac94d993"
      },
      "cell_type": "code",
      "source": [
        "df.A.head()"
      ],
      "execution_count": 11,
      "outputs": [
        {
          "output_type": "execute_result",
          "data": {
            "text/plain": [
              "LVRaM3GY   -0.134546\n",
              "VPCwBd4t   -0.390136\n",
              "VqH3bFNg    0.966490\n",
              "rUa393xA   -0.752026\n",
              "f7FxGl6x   -1.502617\n",
              "Name: A, dtype: float64"
            ]
          },
          "metadata": {
            "tags": []
          },
          "execution_count": 11
        }
      ]
    },
    {
      "metadata": {
        "id": "mJ7snkeytIqc",
        "colab_type": "code",
        "outputId": "825e35d2-c505-4125-a5e9-33f8c48131c1",
        "colab": {
          "base_uri": "https://localhost:8080/",
          "height": 34
        }
      },
      "cell_type": "code",
      "source": [
        "type(df['A'])   # Python dictionary format"
      ],
      "execution_count": 121,
      "outputs": [
        {
          "output_type": "execute_result",
          "data": {
            "text/plain": [
              "pandas.core.series.Series"
            ]
          },
          "metadata": {
            "tags": []
          },
          "execution_count": 121
        }
      ]
    },
    {
      "metadata": {
        "id": "xHJD_eA4HvMr",
        "colab_type": "text"
      },
      "cell_type": "markdown",
      "source": [
        "## Columns"
      ]
    },
    {
      "metadata": {
        "id": "g1MEL5PzHsNh",
        "colab_type": "code",
        "outputId": "4abebce8-dccc-4f5a-a143-9d3b74ba2179",
        "colab": {
          "base_uri": "https://localhost:8080/",
          "height": 34
        }
      },
      "cell_type": "code",
      "source": [
        "df.columns"
      ],
      "execution_count": 128,
      "outputs": [
        {
          "output_type": "execute_result",
          "data": {
            "text/plain": [
              "Index(['some_string', 'A', 'B', 'C', 'D', 'E'], dtype='object')"
            ]
          },
          "metadata": {
            "tags": []
          },
          "execution_count": 128
        }
      ]
    },
    {
      "metadata": {
        "id": "M0wQeIEKtWL_",
        "colab_type": "text"
      },
      "cell_type": "markdown",
      "source": [
        "## Values of a given column"
      ]
    },
    {
      "metadata": {
        "id": "FBOgmVbGtY2v",
        "colab_type": "code",
        "outputId": "6af9d96c-f84c-4520-ee0d-5241ec8bfbd6",
        "colab": {
          "base_uri": "https://localhost:8080/",
          "height": 187
        }
      },
      "cell_type": "code",
      "source": [
        "df['A'].values"
      ],
      "execution_count": 123,
      "outputs": [
        {
          "output_type": "execute_result",
          "data": {
            "text/plain": [
              "array([ 0.47609844,  0.05220837,  0.29495736, -0.74794953,  1.14651864,\n",
              "        1.02276773, -0.26359549,  1.72014175,  0.29953308, -1.31516927,\n",
              "       -0.64345422,  1.58255818,  0.70242473, -0.23320656, -0.24643007,\n",
              "        0.71588179, -0.36022849,  1.38171798,  0.79647013, -1.04714833,\n",
              "       -0.77045085, -0.12280581,  1.14812493, -1.13829489,  1.13298037,\n",
              "       -0.89401704, -1.21177216,  0.60902338,  0.03740675, -0.44876054,\n",
              "        2.23200677,  0.51895527, -2.97656067, -1.23500326,  0.78785146,\n",
              "       -1.34449048,  0.16735634,  1.71902556,  0.32982858,  0.35466122,\n",
              "       -2.36134224,  0.29885846, -0.40961754,  1.14491407,  0.04698158,\n",
              "        0.90076385,  0.20424959, -0.08031575,  3.03060005,  0.9989945 ])"
            ]
          },
          "metadata": {
            "tags": []
          },
          "execution_count": 123
        }
      ]
    },
    {
      "metadata": {
        "id": "0BqOGKK6teIT",
        "colab_type": "text"
      },
      "cell_type": "markdown",
      "source": [
        "## Find Null Values"
      ]
    },
    {
      "metadata": {
        "id": "jUELaXmvtgac",
        "colab_type": "code",
        "outputId": "f18bf555-c5da-48cb-a59c-22b7faf04a26",
        "colab": {
          "base_uri": "https://localhost:8080/",
          "height": 1599
        }
      },
      "cell_type": "code",
      "source": [
        "df.isnull()"
      ],
      "execution_count": 130,
      "outputs": [
        {
          "output_type": "execute_result",
          "data": {
            "text/plain": [
              "    some_string      A      B      C      D     E\n",
              "0         False  False  False  False  False  True\n",
              "1         False  False  False  False  False  True\n",
              "2         False  False  False  False  False  True\n",
              "3         False  False  False  False  False  True\n",
              "4         False  False  False  False  False  True\n",
              "5         False  False  False  False  False  True\n",
              "6         False  False  False  False  False  True\n",
              "7         False  False  False  False  False  True\n",
              "8         False  False  False  False  False  True\n",
              "9         False  False  False  False  False  True\n",
              "10        False  False  False  False  False  True\n",
              "11        False  False  False  False  False  True\n",
              "12        False  False  False  False  False  True\n",
              "13        False  False  False  False  False  True\n",
              "14        False  False  False  False  False  True\n",
              "15        False  False  False  False  False  True\n",
              "16        False  False  False  False  False  True\n",
              "17        False  False  False  False  False  True\n",
              "18        False  False  False  False  False  True\n",
              "19        False  False  False  False  False  True\n",
              "20        False  False  False  False  False  True\n",
              "21        False  False  False  False  False  True\n",
              "22        False  False  False  False  False  True\n",
              "23        False  False  False  False  False  True\n",
              "24        False  False  False  False  False  True\n",
              "25        False  False  False  False  False  True\n",
              "26        False  False  False  False  False  True\n",
              "27        False  False  False  False  False  True\n",
              "28        False  False  False  False  False  True\n",
              "29        False  False  False  False  False  True\n",
              "30        False  False  False  False  False  True\n",
              "31        False  False  False  False  False  True\n",
              "32        False  False  False  False  False  True\n",
              "33        False  False  False  False  False  True\n",
              "34        False  False  False  False  False  True\n",
              "35        False  False  False  False  False  True\n",
              "36        False  False  False  False  False  True\n",
              "37        False  False  False  False  False  True\n",
              "38        False  False  False  False  False  True\n",
              "39        False  False  False  False  False  True\n",
              "40        False  False  False  False  False  True\n",
              "41        False  False  False  False  False  True\n",
              "42        False  False  False  False  False  True\n",
              "43        False  False  False  False  False  True\n",
              "44        False  False  False  False  False  True\n",
              "45        False  False  False  False  False  True\n",
              "46        False  False  False  False  False  True\n",
              "47        False  False  False  False  False  True\n",
              "48        False  False  False  False  False  True\n",
              "49        False  False  False  False  False  True"
            ],
            "text/html": [
              "<div>\n",
              "<style scoped>\n",
              "    .dataframe tbody tr th:only-of-type {\n",
              "        vertical-align: middle;\n",
              "    }\n",
              "\n",
              "    .dataframe tbody tr th {\n",
              "        vertical-align: top;\n",
              "    }\n",
              "\n",
              "    .dataframe thead th {\n",
              "        text-align: right;\n",
              "    }\n",
              "</style>\n",
              "<table border=\"1\" class=\"dataframe\">\n",
              "  <thead>\n",
              "    <tr style=\"text-align: right;\">\n",
              "      <th></th>\n",
              "      <th>some_string</th>\n",
              "      <th>A</th>\n",
              "      <th>B</th>\n",
              "      <th>C</th>\n",
              "      <th>D</th>\n",
              "      <th>E</th>\n",
              "    </tr>\n",
              "  </thead>\n",
              "  <tbody>\n",
              "    <tr>\n",
              "      <th>0</th>\n",
              "      <td>False</td>\n",
              "      <td>False</td>\n",
              "      <td>False</td>\n",
              "      <td>False</td>\n",
              "      <td>False</td>\n",
              "      <td>True</td>\n",
              "    </tr>\n",
              "    <tr>\n",
              "      <th>1</th>\n",
              "      <td>False</td>\n",
              "      <td>False</td>\n",
              "      <td>False</td>\n",
              "      <td>False</td>\n",
              "      <td>False</td>\n",
              "      <td>True</td>\n",
              "    </tr>\n",
              "    <tr>\n",
              "      <th>2</th>\n",
              "      <td>False</td>\n",
              "      <td>False</td>\n",
              "      <td>False</td>\n",
              "      <td>False</td>\n",
              "      <td>False</td>\n",
              "      <td>True</td>\n",
              "    </tr>\n",
              "    <tr>\n",
              "      <th>3</th>\n",
              "      <td>False</td>\n",
              "      <td>False</td>\n",
              "      <td>False</td>\n",
              "      <td>False</td>\n",
              "      <td>False</td>\n",
              "      <td>True</td>\n",
              "    </tr>\n",
              "    <tr>\n",
              "      <th>4</th>\n",
              "      <td>False</td>\n",
              "      <td>False</td>\n",
              "      <td>False</td>\n",
              "      <td>False</td>\n",
              "      <td>False</td>\n",
              "      <td>True</td>\n",
              "    </tr>\n",
              "    <tr>\n",
              "      <th>5</th>\n",
              "      <td>False</td>\n",
              "      <td>False</td>\n",
              "      <td>False</td>\n",
              "      <td>False</td>\n",
              "      <td>False</td>\n",
              "      <td>True</td>\n",
              "    </tr>\n",
              "    <tr>\n",
              "      <th>6</th>\n",
              "      <td>False</td>\n",
              "      <td>False</td>\n",
              "      <td>False</td>\n",
              "      <td>False</td>\n",
              "      <td>False</td>\n",
              "      <td>True</td>\n",
              "    </tr>\n",
              "    <tr>\n",
              "      <th>7</th>\n",
              "      <td>False</td>\n",
              "      <td>False</td>\n",
              "      <td>False</td>\n",
              "      <td>False</td>\n",
              "      <td>False</td>\n",
              "      <td>True</td>\n",
              "    </tr>\n",
              "    <tr>\n",
              "      <th>8</th>\n",
              "      <td>False</td>\n",
              "      <td>False</td>\n",
              "      <td>False</td>\n",
              "      <td>False</td>\n",
              "      <td>False</td>\n",
              "      <td>True</td>\n",
              "    </tr>\n",
              "    <tr>\n",
              "      <th>9</th>\n",
              "      <td>False</td>\n",
              "      <td>False</td>\n",
              "      <td>False</td>\n",
              "      <td>False</td>\n",
              "      <td>False</td>\n",
              "      <td>True</td>\n",
              "    </tr>\n",
              "    <tr>\n",
              "      <th>10</th>\n",
              "      <td>False</td>\n",
              "      <td>False</td>\n",
              "      <td>False</td>\n",
              "      <td>False</td>\n",
              "      <td>False</td>\n",
              "      <td>True</td>\n",
              "    </tr>\n",
              "    <tr>\n",
              "      <th>11</th>\n",
              "      <td>False</td>\n",
              "      <td>False</td>\n",
              "      <td>False</td>\n",
              "      <td>False</td>\n",
              "      <td>False</td>\n",
              "      <td>True</td>\n",
              "    </tr>\n",
              "    <tr>\n",
              "      <th>12</th>\n",
              "      <td>False</td>\n",
              "      <td>False</td>\n",
              "      <td>False</td>\n",
              "      <td>False</td>\n",
              "      <td>False</td>\n",
              "      <td>True</td>\n",
              "    </tr>\n",
              "    <tr>\n",
              "      <th>13</th>\n",
              "      <td>False</td>\n",
              "      <td>False</td>\n",
              "      <td>False</td>\n",
              "      <td>False</td>\n",
              "      <td>False</td>\n",
              "      <td>True</td>\n",
              "    </tr>\n",
              "    <tr>\n",
              "      <th>14</th>\n",
              "      <td>False</td>\n",
              "      <td>False</td>\n",
              "      <td>False</td>\n",
              "      <td>False</td>\n",
              "      <td>False</td>\n",
              "      <td>True</td>\n",
              "    </tr>\n",
              "    <tr>\n",
              "      <th>15</th>\n",
              "      <td>False</td>\n",
              "      <td>False</td>\n",
              "      <td>False</td>\n",
              "      <td>False</td>\n",
              "      <td>False</td>\n",
              "      <td>True</td>\n",
              "    </tr>\n",
              "    <tr>\n",
              "      <th>16</th>\n",
              "      <td>False</td>\n",
              "      <td>False</td>\n",
              "      <td>False</td>\n",
              "      <td>False</td>\n",
              "      <td>False</td>\n",
              "      <td>True</td>\n",
              "    </tr>\n",
              "    <tr>\n",
              "      <th>17</th>\n",
              "      <td>False</td>\n",
              "      <td>False</td>\n",
              "      <td>False</td>\n",
              "      <td>False</td>\n",
              "      <td>False</td>\n",
              "      <td>True</td>\n",
              "    </tr>\n",
              "    <tr>\n",
              "      <th>18</th>\n",
              "      <td>False</td>\n",
              "      <td>False</td>\n",
              "      <td>False</td>\n",
              "      <td>False</td>\n",
              "      <td>False</td>\n",
              "      <td>True</td>\n",
              "    </tr>\n",
              "    <tr>\n",
              "      <th>19</th>\n",
              "      <td>False</td>\n",
              "      <td>False</td>\n",
              "      <td>False</td>\n",
              "      <td>False</td>\n",
              "      <td>False</td>\n",
              "      <td>True</td>\n",
              "    </tr>\n",
              "    <tr>\n",
              "      <th>20</th>\n",
              "      <td>False</td>\n",
              "      <td>False</td>\n",
              "      <td>False</td>\n",
              "      <td>False</td>\n",
              "      <td>False</td>\n",
              "      <td>True</td>\n",
              "    </tr>\n",
              "    <tr>\n",
              "      <th>21</th>\n",
              "      <td>False</td>\n",
              "      <td>False</td>\n",
              "      <td>False</td>\n",
              "      <td>False</td>\n",
              "      <td>False</td>\n",
              "      <td>True</td>\n",
              "    </tr>\n",
              "    <tr>\n",
              "      <th>22</th>\n",
              "      <td>False</td>\n",
              "      <td>False</td>\n",
              "      <td>False</td>\n",
              "      <td>False</td>\n",
              "      <td>False</td>\n",
              "      <td>True</td>\n",
              "    </tr>\n",
              "    <tr>\n",
              "      <th>23</th>\n",
              "      <td>False</td>\n",
              "      <td>False</td>\n",
              "      <td>False</td>\n",
              "      <td>False</td>\n",
              "      <td>False</td>\n",
              "      <td>True</td>\n",
              "    </tr>\n",
              "    <tr>\n",
              "      <th>24</th>\n",
              "      <td>False</td>\n",
              "      <td>False</td>\n",
              "      <td>False</td>\n",
              "      <td>False</td>\n",
              "      <td>False</td>\n",
              "      <td>True</td>\n",
              "    </tr>\n",
              "    <tr>\n",
              "      <th>25</th>\n",
              "      <td>False</td>\n",
              "      <td>False</td>\n",
              "      <td>False</td>\n",
              "      <td>False</td>\n",
              "      <td>False</td>\n",
              "      <td>True</td>\n",
              "    </tr>\n",
              "    <tr>\n",
              "      <th>26</th>\n",
              "      <td>False</td>\n",
              "      <td>False</td>\n",
              "      <td>False</td>\n",
              "      <td>False</td>\n",
              "      <td>False</td>\n",
              "      <td>True</td>\n",
              "    </tr>\n",
              "    <tr>\n",
              "      <th>27</th>\n",
              "      <td>False</td>\n",
              "      <td>False</td>\n",
              "      <td>False</td>\n",
              "      <td>False</td>\n",
              "      <td>False</td>\n",
              "      <td>True</td>\n",
              "    </tr>\n",
              "    <tr>\n",
              "      <th>28</th>\n",
              "      <td>False</td>\n",
              "      <td>False</td>\n",
              "      <td>False</td>\n",
              "      <td>False</td>\n",
              "      <td>False</td>\n",
              "      <td>True</td>\n",
              "    </tr>\n",
              "    <tr>\n",
              "      <th>29</th>\n",
              "      <td>False</td>\n",
              "      <td>False</td>\n",
              "      <td>False</td>\n",
              "      <td>False</td>\n",
              "      <td>False</td>\n",
              "      <td>True</td>\n",
              "    </tr>\n",
              "    <tr>\n",
              "      <th>30</th>\n",
              "      <td>False</td>\n",
              "      <td>False</td>\n",
              "      <td>False</td>\n",
              "      <td>False</td>\n",
              "      <td>False</td>\n",
              "      <td>True</td>\n",
              "    </tr>\n",
              "    <tr>\n",
              "      <th>31</th>\n",
              "      <td>False</td>\n",
              "      <td>False</td>\n",
              "      <td>False</td>\n",
              "      <td>False</td>\n",
              "      <td>False</td>\n",
              "      <td>True</td>\n",
              "    </tr>\n",
              "    <tr>\n",
              "      <th>32</th>\n",
              "      <td>False</td>\n",
              "      <td>False</td>\n",
              "      <td>False</td>\n",
              "      <td>False</td>\n",
              "      <td>False</td>\n",
              "      <td>True</td>\n",
              "    </tr>\n",
              "    <tr>\n",
              "      <th>33</th>\n",
              "      <td>False</td>\n",
              "      <td>False</td>\n",
              "      <td>False</td>\n",
              "      <td>False</td>\n",
              "      <td>False</td>\n",
              "      <td>True</td>\n",
              "    </tr>\n",
              "    <tr>\n",
              "      <th>34</th>\n",
              "      <td>False</td>\n",
              "      <td>False</td>\n",
              "      <td>False</td>\n",
              "      <td>False</td>\n",
              "      <td>False</td>\n",
              "      <td>True</td>\n",
              "    </tr>\n",
              "    <tr>\n",
              "      <th>35</th>\n",
              "      <td>False</td>\n",
              "      <td>False</td>\n",
              "      <td>False</td>\n",
              "      <td>False</td>\n",
              "      <td>False</td>\n",
              "      <td>True</td>\n",
              "    </tr>\n",
              "    <tr>\n",
              "      <th>36</th>\n",
              "      <td>False</td>\n",
              "      <td>False</td>\n",
              "      <td>False</td>\n",
              "      <td>False</td>\n",
              "      <td>False</td>\n",
              "      <td>True</td>\n",
              "    </tr>\n",
              "    <tr>\n",
              "      <th>37</th>\n",
              "      <td>False</td>\n",
              "      <td>False</td>\n",
              "      <td>False</td>\n",
              "      <td>False</td>\n",
              "      <td>False</td>\n",
              "      <td>True</td>\n",
              "    </tr>\n",
              "    <tr>\n",
              "      <th>38</th>\n",
              "      <td>False</td>\n",
              "      <td>False</td>\n",
              "      <td>False</td>\n",
              "      <td>False</td>\n",
              "      <td>False</td>\n",
              "      <td>True</td>\n",
              "    </tr>\n",
              "    <tr>\n",
              "      <th>39</th>\n",
              "      <td>False</td>\n",
              "      <td>False</td>\n",
              "      <td>False</td>\n",
              "      <td>False</td>\n",
              "      <td>False</td>\n",
              "      <td>True</td>\n",
              "    </tr>\n",
              "    <tr>\n",
              "      <th>40</th>\n",
              "      <td>False</td>\n",
              "      <td>False</td>\n",
              "      <td>False</td>\n",
              "      <td>False</td>\n",
              "      <td>False</td>\n",
              "      <td>True</td>\n",
              "    </tr>\n",
              "    <tr>\n",
              "      <th>41</th>\n",
              "      <td>False</td>\n",
              "      <td>False</td>\n",
              "      <td>False</td>\n",
              "      <td>False</td>\n",
              "      <td>False</td>\n",
              "      <td>True</td>\n",
              "    </tr>\n",
              "    <tr>\n",
              "      <th>42</th>\n",
              "      <td>False</td>\n",
              "      <td>False</td>\n",
              "      <td>False</td>\n",
              "      <td>False</td>\n",
              "      <td>False</td>\n",
              "      <td>True</td>\n",
              "    </tr>\n",
              "    <tr>\n",
              "      <th>43</th>\n",
              "      <td>False</td>\n",
              "      <td>False</td>\n",
              "      <td>False</td>\n",
              "      <td>False</td>\n",
              "      <td>False</td>\n",
              "      <td>True</td>\n",
              "    </tr>\n",
              "    <tr>\n",
              "      <th>44</th>\n",
              "      <td>False</td>\n",
              "      <td>False</td>\n",
              "      <td>False</td>\n",
              "      <td>False</td>\n",
              "      <td>False</td>\n",
              "      <td>True</td>\n",
              "    </tr>\n",
              "    <tr>\n",
              "      <th>45</th>\n",
              "      <td>False</td>\n",
              "      <td>False</td>\n",
              "      <td>False</td>\n",
              "      <td>False</td>\n",
              "      <td>False</td>\n",
              "      <td>True</td>\n",
              "    </tr>\n",
              "    <tr>\n",
              "      <th>46</th>\n",
              "      <td>False</td>\n",
              "      <td>False</td>\n",
              "      <td>False</td>\n",
              "      <td>False</td>\n",
              "      <td>False</td>\n",
              "      <td>True</td>\n",
              "    </tr>\n",
              "    <tr>\n",
              "      <th>47</th>\n",
              "      <td>False</td>\n",
              "      <td>False</td>\n",
              "      <td>False</td>\n",
              "      <td>False</td>\n",
              "      <td>False</td>\n",
              "      <td>True</td>\n",
              "    </tr>\n",
              "    <tr>\n",
              "      <th>48</th>\n",
              "      <td>False</td>\n",
              "      <td>False</td>\n",
              "      <td>False</td>\n",
              "      <td>False</td>\n",
              "      <td>False</td>\n",
              "      <td>True</td>\n",
              "    </tr>\n",
              "    <tr>\n",
              "      <th>49</th>\n",
              "      <td>False</td>\n",
              "      <td>False</td>\n",
              "      <td>False</td>\n",
              "      <td>False</td>\n",
              "      <td>False</td>\n",
              "      <td>True</td>\n",
              "    </tr>\n",
              "  </tbody>\n",
              "</table>\n",
              "</div>"
            ]
          },
          "metadata": {
            "tags": []
          },
          "execution_count": 130
        }
      ]
    },
    {
      "metadata": {
        "id": "Mo9g3Z9Hti53",
        "colab_type": "code",
        "outputId": "a7df17fe-8da3-48ec-8526-cbc1b9a31f9b",
        "colab": {
          "base_uri": "https://localhost:8080/",
          "height": 136
        }
      },
      "cell_type": "code",
      "source": [
        "df.isnull().any()  # Any null values by column"
      ],
      "execution_count": 131,
      "outputs": [
        {
          "output_type": "execute_result",
          "data": {
            "text/plain": [
              "some_string    False\n",
              "A              False\n",
              "B              False\n",
              "C              False\n",
              "D              False\n",
              "E               True\n",
              "dtype: bool"
            ]
          },
          "metadata": {
            "tags": []
          },
          "execution_count": 131
        }
      ]
    },
    {
      "metadata": {
        "id": "CEbz1qNBtpR2",
        "colab_type": "code",
        "outputId": "8dcb5720-cc23-4c39-9f46-72868045eb95",
        "colab": {
          "base_uri": "https://localhost:8080/",
          "height": 34
        }
      },
      "cell_type": "code",
      "source": [
        "df.isnull().any().any() # Any null values in the dataframe"
      ],
      "execution_count": 132,
      "outputs": [
        {
          "output_type": "execute_result",
          "data": {
            "text/plain": [
              "True"
            ]
          },
          "metadata": {
            "tags": []
          },
          "execution_count": 132
        }
      ]
    },
    {
      "metadata": {
        "id": "MHKFbUHf0O25",
        "colab_type": "text"
      },
      "cell_type": "markdown",
      "source": [
        "# PLAY WITH THE DATAFRAME"
      ]
    },
    {
      "metadata": {
        "id": "F4ht7LpV1r6s",
        "colab_type": "text"
      },
      "cell_type": "markdown",
      "source": [
        "## Reset the Index and Rename a Column"
      ]
    },
    {
      "metadata": {
        "id": "-TSwopM6bayd",
        "colab_type": "code",
        "colab": {}
      },
      "cell_type": "code",
      "source": [
        "df.reset_index(inplace = True)\n",
        "df.rename(columns={'index': 'some_string'}, inplace = True)"
      ],
      "execution_count": 0,
      "outputs": []
    },
    {
      "metadata": {
        "id": "cit1xx9MgWI-",
        "colab_type": "text"
      },
      "cell_type": "markdown",
      "source": [
        "## Add a column of null values"
      ]
    },
    {
      "metadata": {
        "id": "EiNtv-9Mgaag",
        "colab_type": "code",
        "colab": {}
      },
      "cell_type": "code",
      "source": [
        "df['E'] = None"
      ],
      "execution_count": 0,
      "outputs": []
    },
    {
      "metadata": {
        "id": "0U6CUYTRLBcR",
        "colab_type": "text"
      },
      "cell_type": "markdown",
      "source": [
        "# LOGICAL and MATH OPERATIONS"
      ]
    },
    {
      "metadata": {
        "id": "KABivwi41xHE",
        "colab_type": "text"
      },
      "cell_type": "markdown",
      "source": [
        "## Comparison"
      ]
    },
    {
      "metadata": {
        "id": "73TmsWnXBmdJ",
        "colab_type": "code",
        "outputId": "39c0d0b5-727f-4008-87a3-fbfcdc13991c",
        "colab": {
          "base_uri": "https://localhost:8080/",
          "height": 204
        }
      },
      "cell_type": "code",
      "source": [
        "df[df['A'] > 1.5]"
      ],
      "execution_count": 133,
      "outputs": [
        {
          "output_type": "execute_result",
          "data": {
            "text/plain": [
              "   some_string         A         B         C         D     E\n",
              "7     2KH9t1rV  1.720142 -1.089823 -1.220600 -1.543236  None\n",
              "11    mE5HUxdp  1.582558  1.019341 -1.027361 -0.399024  None\n",
              "30    Ux9VFPLp  2.232007 -1.507931  0.741714  0.842001  None\n",
              "37    xXETLYMd  1.719026 -1.115768  1.579621 -0.386496  None\n",
              "48    ktyvGIrX  3.030600 -1.231429 -0.449071 -0.612818  None"
            ],
            "text/html": [
              "<div>\n",
              "<style scoped>\n",
              "    .dataframe tbody tr th:only-of-type {\n",
              "        vertical-align: middle;\n",
              "    }\n",
              "\n",
              "    .dataframe tbody tr th {\n",
              "        vertical-align: top;\n",
              "    }\n",
              "\n",
              "    .dataframe thead th {\n",
              "        text-align: right;\n",
              "    }\n",
              "</style>\n",
              "<table border=\"1\" class=\"dataframe\">\n",
              "  <thead>\n",
              "    <tr style=\"text-align: right;\">\n",
              "      <th></th>\n",
              "      <th>some_string</th>\n",
              "      <th>A</th>\n",
              "      <th>B</th>\n",
              "      <th>C</th>\n",
              "      <th>D</th>\n",
              "      <th>E</th>\n",
              "    </tr>\n",
              "  </thead>\n",
              "  <tbody>\n",
              "    <tr>\n",
              "      <th>7</th>\n",
              "      <td>2KH9t1rV</td>\n",
              "      <td>1.720142</td>\n",
              "      <td>-1.089823</td>\n",
              "      <td>-1.220600</td>\n",
              "      <td>-1.543236</td>\n",
              "      <td>None</td>\n",
              "    </tr>\n",
              "    <tr>\n",
              "      <th>11</th>\n",
              "      <td>mE5HUxdp</td>\n",
              "      <td>1.582558</td>\n",
              "      <td>1.019341</td>\n",
              "      <td>-1.027361</td>\n",
              "      <td>-0.399024</td>\n",
              "      <td>None</td>\n",
              "    </tr>\n",
              "    <tr>\n",
              "      <th>30</th>\n",
              "      <td>Ux9VFPLp</td>\n",
              "      <td>2.232007</td>\n",
              "      <td>-1.507931</td>\n",
              "      <td>0.741714</td>\n",
              "      <td>0.842001</td>\n",
              "      <td>None</td>\n",
              "    </tr>\n",
              "    <tr>\n",
              "      <th>37</th>\n",
              "      <td>xXETLYMd</td>\n",
              "      <td>1.719026</td>\n",
              "      <td>-1.115768</td>\n",
              "      <td>1.579621</td>\n",
              "      <td>-0.386496</td>\n",
              "      <td>None</td>\n",
              "    </tr>\n",
              "    <tr>\n",
              "      <th>48</th>\n",
              "      <td>ktyvGIrX</td>\n",
              "      <td>3.030600</td>\n",
              "      <td>-1.231429</td>\n",
              "      <td>-0.449071</td>\n",
              "      <td>-0.612818</td>\n",
              "      <td>None</td>\n",
              "    </tr>\n",
              "  </tbody>\n",
              "</table>\n",
              "</div>"
            ]
          },
          "metadata": {
            "tags": []
          },
          "execution_count": 133
        }
      ]
    },
    {
      "metadata": {
        "id": "CVWWQt935Y2z",
        "colab_type": "code",
        "outputId": "446ef396-7c3f-4c3b-c1ed-5c5772b30931",
        "colab": {
          "base_uri": "https://localhost:8080/",
          "height": 80
        }
      },
      "cell_type": "code",
      "source": [
        "df[(df['B'] >= 1.0) & (df['C'] >= 0.5)]"
      ],
      "execution_count": 134,
      "outputs": [
        {
          "output_type": "execute_result",
          "data": {
            "text/plain": [
              "   some_string         A         B         C         D     E\n",
              "10    yM4AywTP -0.643454  2.239517  2.749577  0.351419  None"
            ],
            "text/html": [
              "<div>\n",
              "<style scoped>\n",
              "    .dataframe tbody tr th:only-of-type {\n",
              "        vertical-align: middle;\n",
              "    }\n",
              "\n",
              "    .dataframe tbody tr th {\n",
              "        vertical-align: top;\n",
              "    }\n",
              "\n",
              "    .dataframe thead th {\n",
              "        text-align: right;\n",
              "    }\n",
              "</style>\n",
              "<table border=\"1\" class=\"dataframe\">\n",
              "  <thead>\n",
              "    <tr style=\"text-align: right;\">\n",
              "      <th></th>\n",
              "      <th>some_string</th>\n",
              "      <th>A</th>\n",
              "      <th>B</th>\n",
              "      <th>C</th>\n",
              "      <th>D</th>\n",
              "      <th>E</th>\n",
              "    </tr>\n",
              "  </thead>\n",
              "  <tbody>\n",
              "    <tr>\n",
              "      <th>10</th>\n",
              "      <td>yM4AywTP</td>\n",
              "      <td>-0.643454</td>\n",
              "      <td>2.239517</td>\n",
              "      <td>2.749577</td>\n",
              "      <td>0.351419</td>\n",
              "      <td>None</td>\n",
              "    </tr>\n",
              "  </tbody>\n",
              "</table>\n",
              "</div>"
            ]
          },
          "metadata": {
            "tags": []
          },
          "execution_count": 134
        }
      ]
    },
    {
      "metadata": {
        "id": "dOuDF82l59RF",
        "colab_type": "code",
        "outputId": "bd88b73a-9eb2-4f93-ba41-f4f49f3cfbfc",
        "colab": {
          "base_uri": "https://localhost:8080/",
          "height": 34
        }
      },
      "cell_type": "code",
      "source": [
        "len(df[(df['B'] >= 1.0) & (df['C'] >= 0.5)])"
      ],
      "execution_count": 135,
      "outputs": [
        {
          "output_type": "execute_result",
          "data": {
            "text/plain": [
              "1"
            ]
          },
          "metadata": {
            "tags": []
          },
          "execution_count": 135
        }
      ]
    },
    {
      "metadata": {
        "id": "_WLUOOu-8j1A",
        "colab_type": "text"
      },
      "cell_type": "markdown",
      "source": [
        "## Query Operations"
      ]
    },
    {
      "metadata": {
        "id": "4OeBWbfG8jRm",
        "colab_type": "code",
        "outputId": "f272508c-b7eb-4efa-834b-634130fa33a3",
        "colab": {
          "base_uri": "https://localhost:8080/",
          "height": 1010
        }
      },
      "cell_type": "code",
      "source": [
        "df.query('A > B')"
      ],
      "execution_count": 136,
      "outputs": [
        {
          "output_type": "execute_result",
          "data": {
            "text/plain": [
              "   some_string         A         B         C         D     E\n",
              "0     ENjiS0AB  0.476098 -0.227077 -1.230642 -0.007250  None\n",
              "1     HhARRSVw  0.052208 -1.035601  0.578253 -0.081614  None\n",
              "2     85lwMwxf  0.294957 -0.046760  1.323505  0.313029  None\n",
              "4     E909qoEX  1.146519 -0.648055  0.101360  0.280050  None\n",
              "5     9Q6J82LD  1.022768  0.562401 -0.572622 -0.308879  None\n",
              "7     2KH9t1rV  1.720142 -1.089823 -1.220600 -1.543236  None\n",
              "8     3JjUApeu  0.299533 -1.619457  0.845647 -0.738182  None\n",
              "11    mE5HUxdp  1.582558  1.019341 -1.027361 -0.399024  None\n",
              "12    Xchnlh2j  0.702425 -2.362937  2.092904  1.672844  None\n",
              "14    TjdqA19I -0.246430 -0.449797 -1.114564 -0.182088  None\n",
              "17    iOTCxVEq  1.381718 -0.009672 -0.260062 -0.584991  None\n",
              "18    tXZrG2oc  0.796470  0.080056 -1.002121 -0.394641  None\n",
              "19    faTGtl7s -1.047148 -1.182042 -0.579164  0.427150  None\n",
              "20    LySbfnvj -0.770451 -2.090644 -0.352191 -0.893686  None\n",
              "21    fC4UsXsr -0.122806 -0.471903  0.173650  1.068371  None\n",
              "22    67qHcBbu  1.148125 -0.402801  0.466226  1.563720  None\n",
              "24    P9MeN2nz  1.132980 -0.238476 -0.623363  0.015603  None\n",
              "25    kWIiA0lU -0.894017 -1.741714 -2.474469  0.186951  None\n",
              "27    IKq1m12j  0.609023 -0.112193  0.369967 -0.584480  None\n",
              "30    Ux9VFPLp  2.232007 -1.507931  0.741714  0.842001  None\n",
              "31    AQsW2yTr  0.518955  0.173159 -1.220350 -0.887066  None\n",
              "34    knXfrmdZ  0.787851  0.753987  0.427371 -0.175133  None\n",
              "36    LLwoBlZH  0.167356 -0.271114  1.040211  0.412896  None\n",
              "37    xXETLYMd  1.719026 -1.115768  1.579621 -0.386496  None\n",
              "39    qUuyklxE  0.354661 -1.175234  0.274166 -2.866714  None\n",
              "43    J4stgYHp  1.144914 -0.304092  2.113179  0.533864  None\n",
              "45    13m2LBzu  0.900764  0.335226 -0.991033  0.366034  None\n",
              "46    Z5PaqZD6  0.204250 -0.371985 -0.788102  0.086463  None\n",
              "47    saGHJoA3 -0.080316 -0.548155  0.882777 -1.627644  None\n",
              "48    ktyvGIrX  3.030600 -1.231429 -0.449071 -0.612818  None\n",
              "49    sUYFza8N  0.998995  0.274428  0.949263  1.419877  None"
            ],
            "text/html": [
              "<div>\n",
              "<style scoped>\n",
              "    .dataframe tbody tr th:only-of-type {\n",
              "        vertical-align: middle;\n",
              "    }\n",
              "\n",
              "    .dataframe tbody tr th {\n",
              "        vertical-align: top;\n",
              "    }\n",
              "\n",
              "    .dataframe thead th {\n",
              "        text-align: right;\n",
              "    }\n",
              "</style>\n",
              "<table border=\"1\" class=\"dataframe\">\n",
              "  <thead>\n",
              "    <tr style=\"text-align: right;\">\n",
              "      <th></th>\n",
              "      <th>some_string</th>\n",
              "      <th>A</th>\n",
              "      <th>B</th>\n",
              "      <th>C</th>\n",
              "      <th>D</th>\n",
              "      <th>E</th>\n",
              "    </tr>\n",
              "  </thead>\n",
              "  <tbody>\n",
              "    <tr>\n",
              "      <th>0</th>\n",
              "      <td>ENjiS0AB</td>\n",
              "      <td>0.476098</td>\n",
              "      <td>-0.227077</td>\n",
              "      <td>-1.230642</td>\n",
              "      <td>-0.007250</td>\n",
              "      <td>None</td>\n",
              "    </tr>\n",
              "    <tr>\n",
              "      <th>1</th>\n",
              "      <td>HhARRSVw</td>\n",
              "      <td>0.052208</td>\n",
              "      <td>-1.035601</td>\n",
              "      <td>0.578253</td>\n",
              "      <td>-0.081614</td>\n",
              "      <td>None</td>\n",
              "    </tr>\n",
              "    <tr>\n",
              "      <th>2</th>\n",
              "      <td>85lwMwxf</td>\n",
              "      <td>0.294957</td>\n",
              "      <td>-0.046760</td>\n",
              "      <td>1.323505</td>\n",
              "      <td>0.313029</td>\n",
              "      <td>None</td>\n",
              "    </tr>\n",
              "    <tr>\n",
              "      <th>4</th>\n",
              "      <td>E909qoEX</td>\n",
              "      <td>1.146519</td>\n",
              "      <td>-0.648055</td>\n",
              "      <td>0.101360</td>\n",
              "      <td>0.280050</td>\n",
              "      <td>None</td>\n",
              "    </tr>\n",
              "    <tr>\n",
              "      <th>5</th>\n",
              "      <td>9Q6J82LD</td>\n",
              "      <td>1.022768</td>\n",
              "      <td>0.562401</td>\n",
              "      <td>-0.572622</td>\n",
              "      <td>-0.308879</td>\n",
              "      <td>None</td>\n",
              "    </tr>\n",
              "    <tr>\n",
              "      <th>7</th>\n",
              "      <td>2KH9t1rV</td>\n",
              "      <td>1.720142</td>\n",
              "      <td>-1.089823</td>\n",
              "      <td>-1.220600</td>\n",
              "      <td>-1.543236</td>\n",
              "      <td>None</td>\n",
              "    </tr>\n",
              "    <tr>\n",
              "      <th>8</th>\n",
              "      <td>3JjUApeu</td>\n",
              "      <td>0.299533</td>\n",
              "      <td>-1.619457</td>\n",
              "      <td>0.845647</td>\n",
              "      <td>-0.738182</td>\n",
              "      <td>None</td>\n",
              "    </tr>\n",
              "    <tr>\n",
              "      <th>11</th>\n",
              "      <td>mE5HUxdp</td>\n",
              "      <td>1.582558</td>\n",
              "      <td>1.019341</td>\n",
              "      <td>-1.027361</td>\n",
              "      <td>-0.399024</td>\n",
              "      <td>None</td>\n",
              "    </tr>\n",
              "    <tr>\n",
              "      <th>12</th>\n",
              "      <td>Xchnlh2j</td>\n",
              "      <td>0.702425</td>\n",
              "      <td>-2.362937</td>\n",
              "      <td>2.092904</td>\n",
              "      <td>1.672844</td>\n",
              "      <td>None</td>\n",
              "    </tr>\n",
              "    <tr>\n",
              "      <th>14</th>\n",
              "      <td>TjdqA19I</td>\n",
              "      <td>-0.246430</td>\n",
              "      <td>-0.449797</td>\n",
              "      <td>-1.114564</td>\n",
              "      <td>-0.182088</td>\n",
              "      <td>None</td>\n",
              "    </tr>\n",
              "    <tr>\n",
              "      <th>17</th>\n",
              "      <td>iOTCxVEq</td>\n",
              "      <td>1.381718</td>\n",
              "      <td>-0.009672</td>\n",
              "      <td>-0.260062</td>\n",
              "      <td>-0.584991</td>\n",
              "      <td>None</td>\n",
              "    </tr>\n",
              "    <tr>\n",
              "      <th>18</th>\n",
              "      <td>tXZrG2oc</td>\n",
              "      <td>0.796470</td>\n",
              "      <td>0.080056</td>\n",
              "      <td>-1.002121</td>\n",
              "      <td>-0.394641</td>\n",
              "      <td>None</td>\n",
              "    </tr>\n",
              "    <tr>\n",
              "      <th>19</th>\n",
              "      <td>faTGtl7s</td>\n",
              "      <td>-1.047148</td>\n",
              "      <td>-1.182042</td>\n",
              "      <td>-0.579164</td>\n",
              "      <td>0.427150</td>\n",
              "      <td>None</td>\n",
              "    </tr>\n",
              "    <tr>\n",
              "      <th>20</th>\n",
              "      <td>LySbfnvj</td>\n",
              "      <td>-0.770451</td>\n",
              "      <td>-2.090644</td>\n",
              "      <td>-0.352191</td>\n",
              "      <td>-0.893686</td>\n",
              "      <td>None</td>\n",
              "    </tr>\n",
              "    <tr>\n",
              "      <th>21</th>\n",
              "      <td>fC4UsXsr</td>\n",
              "      <td>-0.122806</td>\n",
              "      <td>-0.471903</td>\n",
              "      <td>0.173650</td>\n",
              "      <td>1.068371</td>\n",
              "      <td>None</td>\n",
              "    </tr>\n",
              "    <tr>\n",
              "      <th>22</th>\n",
              "      <td>67qHcBbu</td>\n",
              "      <td>1.148125</td>\n",
              "      <td>-0.402801</td>\n",
              "      <td>0.466226</td>\n",
              "      <td>1.563720</td>\n",
              "      <td>None</td>\n",
              "    </tr>\n",
              "    <tr>\n",
              "      <th>24</th>\n",
              "      <td>P9MeN2nz</td>\n",
              "      <td>1.132980</td>\n",
              "      <td>-0.238476</td>\n",
              "      <td>-0.623363</td>\n",
              "      <td>0.015603</td>\n",
              "      <td>None</td>\n",
              "    </tr>\n",
              "    <tr>\n",
              "      <th>25</th>\n",
              "      <td>kWIiA0lU</td>\n",
              "      <td>-0.894017</td>\n",
              "      <td>-1.741714</td>\n",
              "      <td>-2.474469</td>\n",
              "      <td>0.186951</td>\n",
              "      <td>None</td>\n",
              "    </tr>\n",
              "    <tr>\n",
              "      <th>27</th>\n",
              "      <td>IKq1m12j</td>\n",
              "      <td>0.609023</td>\n",
              "      <td>-0.112193</td>\n",
              "      <td>0.369967</td>\n",
              "      <td>-0.584480</td>\n",
              "      <td>None</td>\n",
              "    </tr>\n",
              "    <tr>\n",
              "      <th>30</th>\n",
              "      <td>Ux9VFPLp</td>\n",
              "      <td>2.232007</td>\n",
              "      <td>-1.507931</td>\n",
              "      <td>0.741714</td>\n",
              "      <td>0.842001</td>\n",
              "      <td>None</td>\n",
              "    </tr>\n",
              "    <tr>\n",
              "      <th>31</th>\n",
              "      <td>AQsW2yTr</td>\n",
              "      <td>0.518955</td>\n",
              "      <td>0.173159</td>\n",
              "      <td>-1.220350</td>\n",
              "      <td>-0.887066</td>\n",
              "      <td>None</td>\n",
              "    </tr>\n",
              "    <tr>\n",
              "      <th>34</th>\n",
              "      <td>knXfrmdZ</td>\n",
              "      <td>0.787851</td>\n",
              "      <td>0.753987</td>\n",
              "      <td>0.427371</td>\n",
              "      <td>-0.175133</td>\n",
              "      <td>None</td>\n",
              "    </tr>\n",
              "    <tr>\n",
              "      <th>36</th>\n",
              "      <td>LLwoBlZH</td>\n",
              "      <td>0.167356</td>\n",
              "      <td>-0.271114</td>\n",
              "      <td>1.040211</td>\n",
              "      <td>0.412896</td>\n",
              "      <td>None</td>\n",
              "    </tr>\n",
              "    <tr>\n",
              "      <th>37</th>\n",
              "      <td>xXETLYMd</td>\n",
              "      <td>1.719026</td>\n",
              "      <td>-1.115768</td>\n",
              "      <td>1.579621</td>\n",
              "      <td>-0.386496</td>\n",
              "      <td>None</td>\n",
              "    </tr>\n",
              "    <tr>\n",
              "      <th>39</th>\n",
              "      <td>qUuyklxE</td>\n",
              "      <td>0.354661</td>\n",
              "      <td>-1.175234</td>\n",
              "      <td>0.274166</td>\n",
              "      <td>-2.866714</td>\n",
              "      <td>None</td>\n",
              "    </tr>\n",
              "    <tr>\n",
              "      <th>43</th>\n",
              "      <td>J4stgYHp</td>\n",
              "      <td>1.144914</td>\n",
              "      <td>-0.304092</td>\n",
              "      <td>2.113179</td>\n",
              "      <td>0.533864</td>\n",
              "      <td>None</td>\n",
              "    </tr>\n",
              "    <tr>\n",
              "      <th>45</th>\n",
              "      <td>13m2LBzu</td>\n",
              "      <td>0.900764</td>\n",
              "      <td>0.335226</td>\n",
              "      <td>-0.991033</td>\n",
              "      <td>0.366034</td>\n",
              "      <td>None</td>\n",
              "    </tr>\n",
              "    <tr>\n",
              "      <th>46</th>\n",
              "      <td>Z5PaqZD6</td>\n",
              "      <td>0.204250</td>\n",
              "      <td>-0.371985</td>\n",
              "      <td>-0.788102</td>\n",
              "      <td>0.086463</td>\n",
              "      <td>None</td>\n",
              "    </tr>\n",
              "    <tr>\n",
              "      <th>47</th>\n",
              "      <td>saGHJoA3</td>\n",
              "      <td>-0.080316</td>\n",
              "      <td>-0.548155</td>\n",
              "      <td>0.882777</td>\n",
              "      <td>-1.627644</td>\n",
              "      <td>None</td>\n",
              "    </tr>\n",
              "    <tr>\n",
              "      <th>48</th>\n",
              "      <td>ktyvGIrX</td>\n",
              "      <td>3.030600</td>\n",
              "      <td>-1.231429</td>\n",
              "      <td>-0.449071</td>\n",
              "      <td>-0.612818</td>\n",
              "      <td>None</td>\n",
              "    </tr>\n",
              "    <tr>\n",
              "      <th>49</th>\n",
              "      <td>sUYFza8N</td>\n",
              "      <td>0.998995</td>\n",
              "      <td>0.274428</td>\n",
              "      <td>0.949263</td>\n",
              "      <td>1.419877</td>\n",
              "      <td>None</td>\n",
              "    </tr>\n",
              "  </tbody>\n",
              "</table>\n",
              "</div>"
            ]
          },
          "metadata": {
            "tags": []
          },
          "execution_count": 136
        }
      ]
    },
    {
      "metadata": {
        "id": "a8k141eU7sxA",
        "colab_type": "code",
        "outputId": "8e88fdf2-2abf-4caa-83bc-d8fd7731c570",
        "colab": {
          "base_uri": "https://localhost:8080/",
          "height": 1258
        }
      },
      "cell_type": "code",
      "source": [
        "df.query('A < 1.0')"
      ],
      "execution_count": 137,
      "outputs": [
        {
          "output_type": "execute_result",
          "data": {
            "text/plain": [
              "   some_string         A         B         C         D     E\n",
              "0     ENjiS0AB  0.476098 -0.227077 -1.230642 -0.007250  None\n",
              "1     HhARRSVw  0.052208 -1.035601  0.578253 -0.081614  None\n",
              "2     85lwMwxf  0.294957 -0.046760  1.323505  0.313029  None\n",
              "3     Epb050v1 -0.747950  2.178350  0.307381 -0.456426  None\n",
              "6     WCfsic7o -0.263595  0.740828 -0.370355 -0.502176  None\n",
              "8     3JjUApeu  0.299533 -1.619457  0.845647 -0.738182  None\n",
              "9     rdWP0vgw -1.315169 -0.550666  1.662506 -0.714995  None\n",
              "10    yM4AywTP -0.643454  2.239517  2.749577  0.351419  None\n",
              "12    Xchnlh2j  0.702425 -2.362937  2.092904  1.672844  None\n",
              "13    2NSAIynN -0.233207  0.325376  0.859426 -1.490151  None\n",
              "14    TjdqA19I -0.246430 -0.449797 -1.114564 -0.182088  None\n",
              "15    jfhdZofo  0.715882  1.874241 -0.650740 -0.459015  None\n",
              "16    urS9zPHW -0.360228  0.887687  1.635582  1.814305  None\n",
              "18    tXZrG2oc  0.796470  0.080056 -1.002121 -0.394641  None\n",
              "19    faTGtl7s -1.047148 -1.182042 -0.579164  0.427150  None\n",
              "20    LySbfnvj -0.770451 -2.090644 -0.352191 -0.893686  None\n",
              "21    fC4UsXsr -0.122806 -0.471903  0.173650  1.068371  None\n",
              "23    B7wjwinj -1.138295 -0.591412  1.543615  0.076833  None\n",
              "25    kWIiA0lU -0.894017 -1.741714 -2.474469  0.186951  None\n",
              "26    rTRFkxKi -1.211772  0.015258  1.294508 -0.915808  None\n",
              "27    IKq1m12j  0.609023 -0.112193  0.369967 -0.584480  None\n",
              "28    LgOIfjOn  0.037407  0.841700 -1.776260 -0.878280  None\n",
              "29    h8paj1xr -0.448761  0.734689  0.044336 -0.129428  None\n",
              "31    AQsW2yTr  0.518955  0.173159 -1.220350 -0.887066  None\n",
              "32    IeSr4ZZa -2.976561 -0.120733  1.330029  0.240207  None\n",
              "33    zlOSVQJv -1.235003 -1.133728  0.007010  0.163913  None\n",
              "34    knXfrmdZ  0.787851  0.753987  0.427371 -0.175133  None\n",
              "35    fALm318M -1.344490 -0.270540  0.831570  1.500752  None\n",
              "36    LLwoBlZH  0.167356 -0.271114  1.040211  0.412896  None\n",
              "38    tcI9J3cl  0.329829  1.070112  0.016660  0.619905  None\n",
              "39    qUuyklxE  0.354661 -1.175234  0.274166 -2.866714  None\n",
              "40    KtwstBd4 -2.361342 -1.234212 -0.567934 -2.295536  None\n",
              "41    ta77Urpg  0.298858  0.685621  0.068658  0.521642  None\n",
              "42    0is5Aafu -0.409618  0.800058 -0.501022 -0.057630  None\n",
              "44    Yx463khy  0.046982  0.551585  1.505887 -0.441021  None\n",
              "45    13m2LBzu  0.900764  0.335226 -0.991033  0.366034  None\n",
              "46    Z5PaqZD6  0.204250 -0.371985 -0.788102  0.086463  None\n",
              "47    saGHJoA3 -0.080316 -0.548155  0.882777 -1.627644  None\n",
              "49    sUYFza8N  0.998995  0.274428  0.949263  1.419877  None"
            ],
            "text/html": [
              "<div>\n",
              "<style scoped>\n",
              "    .dataframe tbody tr th:only-of-type {\n",
              "        vertical-align: middle;\n",
              "    }\n",
              "\n",
              "    .dataframe tbody tr th {\n",
              "        vertical-align: top;\n",
              "    }\n",
              "\n",
              "    .dataframe thead th {\n",
              "        text-align: right;\n",
              "    }\n",
              "</style>\n",
              "<table border=\"1\" class=\"dataframe\">\n",
              "  <thead>\n",
              "    <tr style=\"text-align: right;\">\n",
              "      <th></th>\n",
              "      <th>some_string</th>\n",
              "      <th>A</th>\n",
              "      <th>B</th>\n",
              "      <th>C</th>\n",
              "      <th>D</th>\n",
              "      <th>E</th>\n",
              "    </tr>\n",
              "  </thead>\n",
              "  <tbody>\n",
              "    <tr>\n",
              "      <th>0</th>\n",
              "      <td>ENjiS0AB</td>\n",
              "      <td>0.476098</td>\n",
              "      <td>-0.227077</td>\n",
              "      <td>-1.230642</td>\n",
              "      <td>-0.007250</td>\n",
              "      <td>None</td>\n",
              "    </tr>\n",
              "    <tr>\n",
              "      <th>1</th>\n",
              "      <td>HhARRSVw</td>\n",
              "      <td>0.052208</td>\n",
              "      <td>-1.035601</td>\n",
              "      <td>0.578253</td>\n",
              "      <td>-0.081614</td>\n",
              "      <td>None</td>\n",
              "    </tr>\n",
              "    <tr>\n",
              "      <th>2</th>\n",
              "      <td>85lwMwxf</td>\n",
              "      <td>0.294957</td>\n",
              "      <td>-0.046760</td>\n",
              "      <td>1.323505</td>\n",
              "      <td>0.313029</td>\n",
              "      <td>None</td>\n",
              "    </tr>\n",
              "    <tr>\n",
              "      <th>3</th>\n",
              "      <td>Epb050v1</td>\n",
              "      <td>-0.747950</td>\n",
              "      <td>2.178350</td>\n",
              "      <td>0.307381</td>\n",
              "      <td>-0.456426</td>\n",
              "      <td>None</td>\n",
              "    </tr>\n",
              "    <tr>\n",
              "      <th>6</th>\n",
              "      <td>WCfsic7o</td>\n",
              "      <td>-0.263595</td>\n",
              "      <td>0.740828</td>\n",
              "      <td>-0.370355</td>\n",
              "      <td>-0.502176</td>\n",
              "      <td>None</td>\n",
              "    </tr>\n",
              "    <tr>\n",
              "      <th>8</th>\n",
              "      <td>3JjUApeu</td>\n",
              "      <td>0.299533</td>\n",
              "      <td>-1.619457</td>\n",
              "      <td>0.845647</td>\n",
              "      <td>-0.738182</td>\n",
              "      <td>None</td>\n",
              "    </tr>\n",
              "    <tr>\n",
              "      <th>9</th>\n",
              "      <td>rdWP0vgw</td>\n",
              "      <td>-1.315169</td>\n",
              "      <td>-0.550666</td>\n",
              "      <td>1.662506</td>\n",
              "      <td>-0.714995</td>\n",
              "      <td>None</td>\n",
              "    </tr>\n",
              "    <tr>\n",
              "      <th>10</th>\n",
              "      <td>yM4AywTP</td>\n",
              "      <td>-0.643454</td>\n",
              "      <td>2.239517</td>\n",
              "      <td>2.749577</td>\n",
              "      <td>0.351419</td>\n",
              "      <td>None</td>\n",
              "    </tr>\n",
              "    <tr>\n",
              "      <th>12</th>\n",
              "      <td>Xchnlh2j</td>\n",
              "      <td>0.702425</td>\n",
              "      <td>-2.362937</td>\n",
              "      <td>2.092904</td>\n",
              "      <td>1.672844</td>\n",
              "      <td>None</td>\n",
              "    </tr>\n",
              "    <tr>\n",
              "      <th>13</th>\n",
              "      <td>2NSAIynN</td>\n",
              "      <td>-0.233207</td>\n",
              "      <td>0.325376</td>\n",
              "      <td>0.859426</td>\n",
              "      <td>-1.490151</td>\n",
              "      <td>None</td>\n",
              "    </tr>\n",
              "    <tr>\n",
              "      <th>14</th>\n",
              "      <td>TjdqA19I</td>\n",
              "      <td>-0.246430</td>\n",
              "      <td>-0.449797</td>\n",
              "      <td>-1.114564</td>\n",
              "      <td>-0.182088</td>\n",
              "      <td>None</td>\n",
              "    </tr>\n",
              "    <tr>\n",
              "      <th>15</th>\n",
              "      <td>jfhdZofo</td>\n",
              "      <td>0.715882</td>\n",
              "      <td>1.874241</td>\n",
              "      <td>-0.650740</td>\n",
              "      <td>-0.459015</td>\n",
              "      <td>None</td>\n",
              "    </tr>\n",
              "    <tr>\n",
              "      <th>16</th>\n",
              "      <td>urS9zPHW</td>\n",
              "      <td>-0.360228</td>\n",
              "      <td>0.887687</td>\n",
              "      <td>1.635582</td>\n",
              "      <td>1.814305</td>\n",
              "      <td>None</td>\n",
              "    </tr>\n",
              "    <tr>\n",
              "      <th>18</th>\n",
              "      <td>tXZrG2oc</td>\n",
              "      <td>0.796470</td>\n",
              "      <td>0.080056</td>\n",
              "      <td>-1.002121</td>\n",
              "      <td>-0.394641</td>\n",
              "      <td>None</td>\n",
              "    </tr>\n",
              "    <tr>\n",
              "      <th>19</th>\n",
              "      <td>faTGtl7s</td>\n",
              "      <td>-1.047148</td>\n",
              "      <td>-1.182042</td>\n",
              "      <td>-0.579164</td>\n",
              "      <td>0.427150</td>\n",
              "      <td>None</td>\n",
              "    </tr>\n",
              "    <tr>\n",
              "      <th>20</th>\n",
              "      <td>LySbfnvj</td>\n",
              "      <td>-0.770451</td>\n",
              "      <td>-2.090644</td>\n",
              "      <td>-0.352191</td>\n",
              "      <td>-0.893686</td>\n",
              "      <td>None</td>\n",
              "    </tr>\n",
              "    <tr>\n",
              "      <th>21</th>\n",
              "      <td>fC4UsXsr</td>\n",
              "      <td>-0.122806</td>\n",
              "      <td>-0.471903</td>\n",
              "      <td>0.173650</td>\n",
              "      <td>1.068371</td>\n",
              "      <td>None</td>\n",
              "    </tr>\n",
              "    <tr>\n",
              "      <th>23</th>\n",
              "      <td>B7wjwinj</td>\n",
              "      <td>-1.138295</td>\n",
              "      <td>-0.591412</td>\n",
              "      <td>1.543615</td>\n",
              "      <td>0.076833</td>\n",
              "      <td>None</td>\n",
              "    </tr>\n",
              "    <tr>\n",
              "      <th>25</th>\n",
              "      <td>kWIiA0lU</td>\n",
              "      <td>-0.894017</td>\n",
              "      <td>-1.741714</td>\n",
              "      <td>-2.474469</td>\n",
              "      <td>0.186951</td>\n",
              "      <td>None</td>\n",
              "    </tr>\n",
              "    <tr>\n",
              "      <th>26</th>\n",
              "      <td>rTRFkxKi</td>\n",
              "      <td>-1.211772</td>\n",
              "      <td>0.015258</td>\n",
              "      <td>1.294508</td>\n",
              "      <td>-0.915808</td>\n",
              "      <td>None</td>\n",
              "    </tr>\n",
              "    <tr>\n",
              "      <th>27</th>\n",
              "      <td>IKq1m12j</td>\n",
              "      <td>0.609023</td>\n",
              "      <td>-0.112193</td>\n",
              "      <td>0.369967</td>\n",
              "      <td>-0.584480</td>\n",
              "      <td>None</td>\n",
              "    </tr>\n",
              "    <tr>\n",
              "      <th>28</th>\n",
              "      <td>LgOIfjOn</td>\n",
              "      <td>0.037407</td>\n",
              "      <td>0.841700</td>\n",
              "      <td>-1.776260</td>\n",
              "      <td>-0.878280</td>\n",
              "      <td>None</td>\n",
              "    </tr>\n",
              "    <tr>\n",
              "      <th>29</th>\n",
              "      <td>h8paj1xr</td>\n",
              "      <td>-0.448761</td>\n",
              "      <td>0.734689</td>\n",
              "      <td>0.044336</td>\n",
              "      <td>-0.129428</td>\n",
              "      <td>None</td>\n",
              "    </tr>\n",
              "    <tr>\n",
              "      <th>31</th>\n",
              "      <td>AQsW2yTr</td>\n",
              "      <td>0.518955</td>\n",
              "      <td>0.173159</td>\n",
              "      <td>-1.220350</td>\n",
              "      <td>-0.887066</td>\n",
              "      <td>None</td>\n",
              "    </tr>\n",
              "    <tr>\n",
              "      <th>32</th>\n",
              "      <td>IeSr4ZZa</td>\n",
              "      <td>-2.976561</td>\n",
              "      <td>-0.120733</td>\n",
              "      <td>1.330029</td>\n",
              "      <td>0.240207</td>\n",
              "      <td>None</td>\n",
              "    </tr>\n",
              "    <tr>\n",
              "      <th>33</th>\n",
              "      <td>zlOSVQJv</td>\n",
              "      <td>-1.235003</td>\n",
              "      <td>-1.133728</td>\n",
              "      <td>0.007010</td>\n",
              "      <td>0.163913</td>\n",
              "      <td>None</td>\n",
              "    </tr>\n",
              "    <tr>\n",
              "      <th>34</th>\n",
              "      <td>knXfrmdZ</td>\n",
              "      <td>0.787851</td>\n",
              "      <td>0.753987</td>\n",
              "      <td>0.427371</td>\n",
              "      <td>-0.175133</td>\n",
              "      <td>None</td>\n",
              "    </tr>\n",
              "    <tr>\n",
              "      <th>35</th>\n",
              "      <td>fALm318M</td>\n",
              "      <td>-1.344490</td>\n",
              "      <td>-0.270540</td>\n",
              "      <td>0.831570</td>\n",
              "      <td>1.500752</td>\n",
              "      <td>None</td>\n",
              "    </tr>\n",
              "    <tr>\n",
              "      <th>36</th>\n",
              "      <td>LLwoBlZH</td>\n",
              "      <td>0.167356</td>\n",
              "      <td>-0.271114</td>\n",
              "      <td>1.040211</td>\n",
              "      <td>0.412896</td>\n",
              "      <td>None</td>\n",
              "    </tr>\n",
              "    <tr>\n",
              "      <th>38</th>\n",
              "      <td>tcI9J3cl</td>\n",
              "      <td>0.329829</td>\n",
              "      <td>1.070112</td>\n",
              "      <td>0.016660</td>\n",
              "      <td>0.619905</td>\n",
              "      <td>None</td>\n",
              "    </tr>\n",
              "    <tr>\n",
              "      <th>39</th>\n",
              "      <td>qUuyklxE</td>\n",
              "      <td>0.354661</td>\n",
              "      <td>-1.175234</td>\n",
              "      <td>0.274166</td>\n",
              "      <td>-2.866714</td>\n",
              "      <td>None</td>\n",
              "    </tr>\n",
              "    <tr>\n",
              "      <th>40</th>\n",
              "      <td>KtwstBd4</td>\n",
              "      <td>-2.361342</td>\n",
              "      <td>-1.234212</td>\n",
              "      <td>-0.567934</td>\n",
              "      <td>-2.295536</td>\n",
              "      <td>None</td>\n",
              "    </tr>\n",
              "    <tr>\n",
              "      <th>41</th>\n",
              "      <td>ta77Urpg</td>\n",
              "      <td>0.298858</td>\n",
              "      <td>0.685621</td>\n",
              "      <td>0.068658</td>\n",
              "      <td>0.521642</td>\n",
              "      <td>None</td>\n",
              "    </tr>\n",
              "    <tr>\n",
              "      <th>42</th>\n",
              "      <td>0is5Aafu</td>\n",
              "      <td>-0.409618</td>\n",
              "      <td>0.800058</td>\n",
              "      <td>-0.501022</td>\n",
              "      <td>-0.057630</td>\n",
              "      <td>None</td>\n",
              "    </tr>\n",
              "    <tr>\n",
              "      <th>44</th>\n",
              "      <td>Yx463khy</td>\n",
              "      <td>0.046982</td>\n",
              "      <td>0.551585</td>\n",
              "      <td>1.505887</td>\n",
              "      <td>-0.441021</td>\n",
              "      <td>None</td>\n",
              "    </tr>\n",
              "    <tr>\n",
              "      <th>45</th>\n",
              "      <td>13m2LBzu</td>\n",
              "      <td>0.900764</td>\n",
              "      <td>0.335226</td>\n",
              "      <td>-0.991033</td>\n",
              "      <td>0.366034</td>\n",
              "      <td>None</td>\n",
              "    </tr>\n",
              "    <tr>\n",
              "      <th>46</th>\n",
              "      <td>Z5PaqZD6</td>\n",
              "      <td>0.204250</td>\n",
              "      <td>-0.371985</td>\n",
              "      <td>-0.788102</td>\n",
              "      <td>0.086463</td>\n",
              "      <td>None</td>\n",
              "    </tr>\n",
              "    <tr>\n",
              "      <th>47</th>\n",
              "      <td>saGHJoA3</td>\n",
              "      <td>-0.080316</td>\n",
              "      <td>-0.548155</td>\n",
              "      <td>0.882777</td>\n",
              "      <td>-1.627644</td>\n",
              "      <td>None</td>\n",
              "    </tr>\n",
              "    <tr>\n",
              "      <th>49</th>\n",
              "      <td>sUYFza8N</td>\n",
              "      <td>0.998995</td>\n",
              "      <td>0.274428</td>\n",
              "      <td>0.949263</td>\n",
              "      <td>1.419877</td>\n",
              "      <td>None</td>\n",
              "    </tr>\n",
              "  </tbody>\n",
              "</table>\n",
              "</div>"
            ]
          },
          "metadata": {
            "tags": []
          },
          "execution_count": 137
        }
      ]
    },
    {
      "metadata": {
        "id": "Gs3iw0OfLe_L",
        "colab_type": "text"
      },
      "cell_type": "markdown",
      "source": [
        "## Addition operation\n",
        "creates a new column based on the calculation of col:A and B"
      ]
    },
    {
      "metadata": {
        "id": "X1ATPEsOLAUL",
        "colab_type": "code",
        "colab": {
          "base_uri": "https://localhost:8080/",
          "height": 204
        },
        "outputId": "5fa59fdb-70fa-472e-b37e-b6e84a0bbb4b"
      },
      "cell_type": "code",
      "source": [
        "df['sum_a_b'] = df['A'] + df['B']\n",
        "df.head()"
      ],
      "execution_count": 138,
      "outputs": [
        {
          "output_type": "execute_result",
          "data": {
            "text/plain": [
              "  some_string         A         B         C         D     E   sum_a_b\n",
              "0    ENjiS0AB  0.476098 -0.227077 -1.230642 -0.007250  None  0.249021\n",
              "1    HhARRSVw  0.052208 -1.035601  0.578253 -0.081614  None -0.983392\n",
              "2    85lwMwxf  0.294957 -0.046760  1.323505  0.313029  None  0.248197\n",
              "3    Epb050v1 -0.747950  2.178350  0.307381 -0.456426  None  1.430401\n",
              "4    E909qoEX  1.146519 -0.648055  0.101360  0.280050  None  0.498464"
            ],
            "text/html": [
              "<div>\n",
              "<style scoped>\n",
              "    .dataframe tbody tr th:only-of-type {\n",
              "        vertical-align: middle;\n",
              "    }\n",
              "\n",
              "    .dataframe tbody tr th {\n",
              "        vertical-align: top;\n",
              "    }\n",
              "\n",
              "    .dataframe thead th {\n",
              "        text-align: right;\n",
              "    }\n",
              "</style>\n",
              "<table border=\"1\" class=\"dataframe\">\n",
              "  <thead>\n",
              "    <tr style=\"text-align: right;\">\n",
              "      <th></th>\n",
              "      <th>some_string</th>\n",
              "      <th>A</th>\n",
              "      <th>B</th>\n",
              "      <th>C</th>\n",
              "      <th>D</th>\n",
              "      <th>E</th>\n",
              "      <th>sum_a_b</th>\n",
              "    </tr>\n",
              "  </thead>\n",
              "  <tbody>\n",
              "    <tr>\n",
              "      <th>0</th>\n",
              "      <td>ENjiS0AB</td>\n",
              "      <td>0.476098</td>\n",
              "      <td>-0.227077</td>\n",
              "      <td>-1.230642</td>\n",
              "      <td>-0.007250</td>\n",
              "      <td>None</td>\n",
              "      <td>0.249021</td>\n",
              "    </tr>\n",
              "    <tr>\n",
              "      <th>1</th>\n",
              "      <td>HhARRSVw</td>\n",
              "      <td>0.052208</td>\n",
              "      <td>-1.035601</td>\n",
              "      <td>0.578253</td>\n",
              "      <td>-0.081614</td>\n",
              "      <td>None</td>\n",
              "      <td>-0.983392</td>\n",
              "    </tr>\n",
              "    <tr>\n",
              "      <th>2</th>\n",
              "      <td>85lwMwxf</td>\n",
              "      <td>0.294957</td>\n",
              "      <td>-0.046760</td>\n",
              "      <td>1.323505</td>\n",
              "      <td>0.313029</td>\n",
              "      <td>None</td>\n",
              "      <td>0.248197</td>\n",
              "    </tr>\n",
              "    <tr>\n",
              "      <th>3</th>\n",
              "      <td>Epb050v1</td>\n",
              "      <td>-0.747950</td>\n",
              "      <td>2.178350</td>\n",
              "      <td>0.307381</td>\n",
              "      <td>-0.456426</td>\n",
              "      <td>None</td>\n",
              "      <td>1.430401</td>\n",
              "    </tr>\n",
              "    <tr>\n",
              "      <th>4</th>\n",
              "      <td>E909qoEX</td>\n",
              "      <td>1.146519</td>\n",
              "      <td>-0.648055</td>\n",
              "      <td>0.101360</td>\n",
              "      <td>0.280050</td>\n",
              "      <td>None</td>\n",
              "      <td>0.498464</td>\n",
              "    </tr>\n",
              "  </tbody>\n",
              "</table>\n",
              "</div>"
            ]
          },
          "metadata": {
            "tags": []
          },
          "execution_count": 138
        }
      ]
    },
    {
      "metadata": {
        "id": "B704xzrHU55m",
        "colab_type": "code",
        "colab": {
          "base_uri": "https://localhost:8080/",
          "height": 884
        },
        "outputId": "090dde42-f6f7-49d4-fef3-260ba561b7ad"
      },
      "cell_type": "code",
      "source": [
        "df['A'] + df['B']"
      ],
      "execution_count": 102,
      "outputs": [
        {
          "output_type": "execute_result",
          "data": {
            "text/plain": [
              "0    -0.731080\n",
              "1    -1.646448\n",
              "2    -0.707323\n",
              "3    -2.488148\n",
              "4    -1.116462\n",
              "5     1.413910\n",
              "6    -0.102929\n",
              "7    -1.271522\n",
              "8     1.160422\n",
              "9     0.151062\n",
              "10   -2.041216\n",
              "11    0.088514\n",
              "12    0.379667\n",
              "13   -0.455662\n",
              "14    0.197556\n",
              "15    2.871560\n",
              "16   -2.329639\n",
              "17   -0.264352\n",
              "18   -0.720171\n",
              "19    0.138681\n",
              "20   -1.111564\n",
              "21    0.954686\n",
              "22    1.665147\n",
              "23    0.857748\n",
              "24    0.430577\n",
              "25    1.656920\n",
              "26    0.511251\n",
              "27   -0.047119\n",
              "28   -0.950795\n",
              "29    1.083727\n",
              "30    1.286559\n",
              "31   -1.596117\n",
              "32    0.572944\n",
              "33    0.651759\n",
              "34   -0.463945\n",
              "35    0.380938\n",
              "36    2.519979\n",
              "37   -0.407157\n",
              "38   -1.107081\n",
              "39    1.849252\n",
              "40   -2.366392\n",
              "41    0.870585\n",
              "42   -0.973535\n",
              "43   -0.524320\n",
              "44    0.784966\n",
              "45    0.723437\n",
              "46    1.713214\n",
              "47   -1.327015\n",
              "48   -2.202678\n",
              "49   -2.049405\n",
              "dtype: float64"
            ]
          },
          "metadata": {
            "tags": []
          },
          "execution_count": 102
        }
      ]
    },
    {
      "metadata": {
        "id": "e3pF64sjWCKg",
        "colab_type": "text"
      },
      "cell_type": "markdown",
      "source": [
        "# AGGREGATE FUNCTIONS"
      ]
    },
    {
      "metadata": {
        "id": "S2U1ZU_z6w4q",
        "colab_type": "text"
      },
      "cell_type": "markdown",
      "source": [
        "## Min"
      ]
    },
    {
      "metadata": {
        "id": "k1knW7UU64hO",
        "colab_type": "code",
        "colab": {
          "base_uri": "https://localhost:8080/",
          "height": 34
        },
        "outputId": "fd2f481d-9053-45c8-c8cd-f266775331e2"
      },
      "cell_type": "code",
      "source": [
        "df['A'].mean()"
      ],
      "execution_count": 140,
      "outputs": [
        {
          "output_type": "execute_result",
          "data": {
            "text/plain": [
              "0.16006495424169806"
            ]
          },
          "metadata": {
            "tags": []
          },
          "execution_count": 140
        }
      ]
    },
    {
      "metadata": {
        "id": "AYwdIeNS68r3",
        "colab_type": "code",
        "colab": {
          "base_uri": "https://localhost:8080/",
          "height": 119
        },
        "outputId": "ffbeb271-ede4-4eab-c95a-4834c68701c7"
      },
      "cell_type": "code",
      "source": [
        "df.mean(axis=0)"
      ],
      "execution_count": 141,
      "outputs": [
        {
          "output_type": "execute_result",
          "data": {
            "text/plain": [
              "A          0.160065\n",
              "B         -0.160247\n",
              "C          0.200891\n",
              "D         -0.122732\n",
              "sum_a_b   -0.000182\n",
              "dtype: float64"
            ]
          },
          "metadata": {
            "tags": []
          },
          "execution_count": 141
        }
      ]
    },
    {
      "metadata": {
        "id": "at-iQiNbWG2M",
        "colab_type": "code",
        "colab": {
          "base_uri": "https://localhost:8080/",
          "height": 884
        },
        "outputId": "f6513db9-5823-46d0-ba10-d11991b68a8f"
      },
      "cell_type": "code",
      "source": [
        "df.min(axis=1)"
      ],
      "execution_count": 142,
      "outputs": [
        {
          "output_type": "execute_result",
          "data": {
            "text/plain": [
              "0    -1.230642\n",
              "1    -1.035601\n",
              "2    -0.046760\n",
              "3    -0.747950\n",
              "4    -0.648055\n",
              "5    -0.572622\n",
              "6    -0.502176\n",
              "7    -1.543236\n",
              "8    -1.619457\n",
              "9    -1.865836\n",
              "10   -0.643454\n",
              "11   -1.027361\n",
              "12   -2.362937\n",
              "13   -1.490151\n",
              "14   -1.114564\n",
              "15   -0.650740\n",
              "16   -0.360228\n",
              "17   -0.584991\n",
              "18   -1.002121\n",
              "19   -2.229190\n",
              "20   -2.861095\n",
              "21   -0.594709\n",
              "22   -0.402801\n",
              "23   -1.729707\n",
              "24   -0.623363\n",
              "25   -2.635731\n",
              "26   -1.211772\n",
              "27   -0.584480\n",
              "28   -1.776260\n",
              "29   -0.448761\n",
              "30   -1.507931\n",
              "31   -1.220350\n",
              "32   -3.097293\n",
              "33   -2.368732\n",
              "34   -0.175133\n",
              "35   -1.615031\n",
              "36   -0.271114\n",
              "37   -1.115768\n",
              "38    0.016660\n",
              "39   -2.866714\n",
              "40   -3.595555\n",
              "41    0.068658\n",
              "42   -0.501022\n",
              "43   -0.304092\n",
              "44   -0.441021\n",
              "45   -0.991033\n",
              "46   -0.788102\n",
              "47   -1.627644\n",
              "48   -1.231429\n",
              "49    0.274428\n",
              "dtype: float64"
            ]
          },
          "metadata": {
            "tags": []
          },
          "execution_count": 142
        }
      ]
    },
    {
      "metadata": {
        "id": "Y82tRy5M6yeB",
        "colab_type": "text"
      },
      "cell_type": "markdown",
      "source": [
        "## Agg with min/max/mean"
      ]
    },
    {
      "metadata": {
        "id": "UCMPg9plXcgg",
        "colab_type": "code",
        "colab": {
          "base_uri": "https://localhost:8080/",
          "height": 142
        },
        "outputId": "d0a8ef0d-c522-4f57-d2b7-d862cd573354"
      },
      "cell_type": "code",
      "source": [
        "df.agg({'A':['min', 'max', 'mean'], 'B':['min', 'max', 'mean'], 'C': ['min', 'max', 'mean']})"
      ],
      "execution_count": 143,
      "outputs": [
        {
          "output_type": "execute_result",
          "data": {
            "text/plain": [
              "             A         B         C\n",
              "min  -2.976561 -2.362937 -2.474469\n",
              "max   3.030600  2.239517  2.749577\n",
              "mean  0.160065 -0.160247  0.200891"
            ],
            "text/html": [
              "<div>\n",
              "<style scoped>\n",
              "    .dataframe tbody tr th:only-of-type {\n",
              "        vertical-align: middle;\n",
              "    }\n",
              "\n",
              "    .dataframe tbody tr th {\n",
              "        vertical-align: top;\n",
              "    }\n",
              "\n",
              "    .dataframe thead th {\n",
              "        text-align: right;\n",
              "    }\n",
              "</style>\n",
              "<table border=\"1\" class=\"dataframe\">\n",
              "  <thead>\n",
              "    <tr style=\"text-align: right;\">\n",
              "      <th></th>\n",
              "      <th>A</th>\n",
              "      <th>B</th>\n",
              "      <th>C</th>\n",
              "    </tr>\n",
              "  </thead>\n",
              "  <tbody>\n",
              "    <tr>\n",
              "      <th>min</th>\n",
              "      <td>-2.976561</td>\n",
              "      <td>-2.362937</td>\n",
              "      <td>-2.474469</td>\n",
              "    </tr>\n",
              "    <tr>\n",
              "      <th>max</th>\n",
              "      <td>3.030600</td>\n",
              "      <td>2.239517</td>\n",
              "      <td>2.749577</td>\n",
              "    </tr>\n",
              "    <tr>\n",
              "      <th>mean</th>\n",
              "      <td>0.160065</td>\n",
              "      <td>-0.160247</td>\n",
              "      <td>0.200891</td>\n",
              "    </tr>\n",
              "  </tbody>\n",
              "</table>\n",
              "</div>"
            ]
          },
          "metadata": {
            "tags": []
          },
          "execution_count": 143
        }
      ]
    },
    {
      "metadata": {
        "id": "-_gy9xho81pl",
        "colab_type": "text"
      },
      "cell_type": "markdown",
      "source": [
        "# SIMPLE CHART EXAMPLE"
      ]
    },
    {
      "metadata": {
        "id": "uSBoEM-v92cT",
        "colab_type": "text"
      },
      "cell_type": "markdown",
      "source": [
        "## Pandas series plot"
      ]
    },
    {
      "metadata": {
        "id": "m85KWtPy81SD",
        "colab_type": "code",
        "colab": {
          "base_uri": "https://localhost:8080/",
          "height": 119
        },
        "outputId": "92725806-da92-4139-d3b4-fe85f1dddc38"
      },
      "cell_type": "code",
      "source": [
        "ds = pd.Series(np.random.randn(1000), \n",
        "               index=pd.date_range('1/1/2000', periods=1000)) # create a pandas dataframe/series\n",
        "ds.head()"
      ],
      "execution_count": 168,
      "outputs": [
        {
          "output_type": "execute_result",
          "data": {
            "text/plain": [
              "2000-01-01    0.270159\n",
              "2000-01-02   -0.117104\n",
              "2000-01-03   -0.316291\n",
              "2000-01-04   -0.891467\n",
              "2000-01-05    0.797147\n",
              "Freq: D, dtype: float64"
            ]
          },
          "metadata": {
            "tags": []
          },
          "execution_count": 168
        }
      ]
    },
    {
      "metadata": {
        "id": "viLRgeaIMwAh",
        "colab_type": "code",
        "colab": {
          "base_uri": "https://localhost:8080/",
          "height": 569
        },
        "outputId": "4e5d4c91-0fa6-40c4-fdfd-bc52fa4f9e09"
      },
      "cell_type": "code",
      "source": [
        "ds = ds.cumsum()  # We're going to apply cummalitive sum to our data series to help with readability.\n",
        "ds.plot(figsize=(11,9))"
      ],
      "execution_count": 169,
      "outputs": [
        {
          "output_type": "execute_result",
          "data": {
            "text/plain": [
              "<matplotlib.axes._subplots.AxesSubplot at 0x1209dd3c8>"
            ]
          },
          "metadata": {
            "tags": []
          },
          "execution_count": 169
        },
        {
          "output_type": "display_data",
          "data": {
            "text/plain": [
              "<Figure size 792x648 with 1 Axes>"
            ],
            "image/png": "[encoded data removed]"
          },
          "metadata": {
            "tags": [],
            "needs_background": "light"
          }
        }
      ]
    },
    {
      "metadata": {
        "id": "_xAN_Vj599m2",
        "colab_type": "text"
      },
      "cell_type": "markdown",
      "source": [
        "## Plot using matplotlib"
      ]
    },
    {
      "metadata": {
        "id": "zesgaGwd-FTQ",
        "colab_type": "code",
        "colab": {
          "base_uri": "https://localhost:8080/",
          "height": 314
        },
        "outputId": "6d81b42c-b12d-450b-f8ea-8d777210d231"
      },
      "cell_type": "code",
      "source": [
        "# Rather than re-create the index we'll use the the index from ds\n",
        "dfplot = pd.DataFrame(np.random.randn(1000, 4), \n",
        "                      index=ds.index, columns=list('ABCD'))\n",
        "dfplot = dfplot.cumsum()\n",
        "plt.figure()\n",
        "dfplot.plot()"
      ],
      "execution_count": 170,
      "outputs": [
        {
          "output_type": "execute_result",
          "data": {
            "text/plain": [
              "<matplotlib.axes._subplots.AxesSubplot at 0x120bf3be0>"
            ]
          },
          "metadata": {
            "tags": []
          },
          "execution_count": 170
        },
        {
          "output_type": "display_data",
          "data": {
            "text/plain": [
              "<Figure size 432x288 with 0 Axes>"
            ]
          },
          "metadata": {
            "tags": []
          }
        },
        {
          "output_type": "display_data",
          "data": {
            "text/plain": [
              "<Figure size 432x288 with 1 Axes>"
            ],
            "image/png": "[encoded data removed]"
          },
          "metadata": {
            "tags": [],
            "needs_background": "light"
          }
        }
      ]
    },
    {
      "metadata": {
        "id": "CvWDRoyveLhJ",
        "colab_type": "text"
      },
      "cell_type": "markdown",
      "source": [
        "# A Second dataframe, demostrating the adding of a column and how to fill null values with np.nan.  From here down may get deleted as I'm finding I can cover much of the detail in the code above."
      ]
    },
    {
      "metadata": {
        "id": "DWmA5G57wjQQ",
        "colab_type": "code",
        "colab": {}
      },
      "cell_type": "code",
      "source": [
        "another_df = pd.DataFrame(np.random.randn(5, 3), \n",
        "                          index=['a', 'c', 'e', 'f', 'h'], \n",
        "                          columns=['one', 'two', 'three'])"
      ],
      "execution_count": 0,
      "outputs": []
    },
    {
      "metadata": {
        "id": "8R7_GwqvxGiP",
        "colab_type": "code",
        "colab": {
          "base_uri": "https://localhost:8080/",
          "height": 204
        },
        "outputId": "1a878582-37ca-4658-c54b-ede9bee4e6a9"
      },
      "cell_type": "code",
      "source": [
        "another_df.head()"
      ],
      "execution_count": 57,
      "outputs": [
        {
          "output_type": "execute_result",
          "data": {
            "text/plain": [
              "        one       two     three\n",
              "a  0.552535  1.144933  0.569920\n",
              "c -1.094971  0.729448 -0.688935\n",
              "e  0.510150  0.878075  0.578867\n",
              "f  0.707556 -1.135120  2.038227\n",
              "h -0.764885 -0.390368 -0.075548"
            ],
            "text/html": [
              "<div>\n",
              "<style scoped>\n",
              "    .dataframe tbody tr th:only-of-type {\n",
              "        vertical-align: middle;\n",
              "    }\n",
              "\n",
              "    .dataframe tbody tr th {\n",
              "        vertical-align: top;\n",
              "    }\n",
              "\n",
              "    .dataframe thead th {\n",
              "        text-align: right;\n",
              "    }\n",
              "</style>\n",
              "<table border=\"1\" class=\"dataframe\">\n",
              "  <thead>\n",
              "    <tr style=\"text-align: right;\">\n",
              "      <th></th>\n",
              "      <th>one</th>\n",
              "      <th>two</th>\n",
              "      <th>three</th>\n",
              "    </tr>\n",
              "  </thead>\n",
              "  <tbody>\n",
              "    <tr>\n",
              "      <th>a</th>\n",
              "      <td>0.552535</td>\n",
              "      <td>1.144933</td>\n",
              "      <td>0.569920</td>\n",
              "    </tr>\n",
              "    <tr>\n",
              "      <th>c</th>\n",
              "      <td>-1.094971</td>\n",
              "      <td>0.729448</td>\n",
              "      <td>-0.688935</td>\n",
              "    </tr>\n",
              "    <tr>\n",
              "      <th>e</th>\n",
              "      <td>0.510150</td>\n",
              "      <td>0.878075</td>\n",
              "      <td>0.578867</td>\n",
              "    </tr>\n",
              "    <tr>\n",
              "      <th>f</th>\n",
              "      <td>0.707556</td>\n",
              "      <td>-1.135120</td>\n",
              "      <td>2.038227</td>\n",
              "    </tr>\n",
              "    <tr>\n",
              "      <th>h</th>\n",
              "      <td>-0.764885</td>\n",
              "      <td>-0.390368</td>\n",
              "      <td>-0.075548</td>\n",
              "    </tr>\n",
              "  </tbody>\n",
              "</table>\n",
              "</div>"
            ]
          },
          "metadata": {
            "tags": []
          },
          "execution_count": 57
        }
      ]
    },
    {
      "metadata": {
        "id": "ZfXrD2j0xzWe",
        "colab_type": "code",
        "colab": {}
      },
      "cell_type": "code",
      "source": [
        "another_df['four'] = None"
      ],
      "execution_count": 0,
      "outputs": []
    },
    {
      "metadata": {
        "id": "7RDrSo-xx2LW",
        "colab_type": "code",
        "colab": {
          "base_uri": "https://localhost:8080/",
          "height": 204
        },
        "outputId": "163e91e2-fe23-48fd-a88f-d05cd4e28080"
      },
      "cell_type": "code",
      "source": [
        "another_df.head()"
      ],
      "execution_count": 59,
      "outputs": [
        {
          "output_type": "execute_result",
          "data": {
            "text/plain": [
              "        one       two     three  four\n",
              "a  0.552535  1.144933  0.569920  None\n",
              "c -1.094971  0.729448 -0.688935  None\n",
              "e  0.510150  0.878075  0.578867  None\n",
              "f  0.707556 -1.135120  2.038227  None\n",
              "h -0.764885 -0.390368 -0.075548  None"
            ],
            "text/html": [
              "<div>\n",
              "<style scoped>\n",
              "    .dataframe tbody tr th:only-of-type {\n",
              "        vertical-align: middle;\n",
              "    }\n",
              "\n",
              "    .dataframe tbody tr th {\n",
              "        vertical-align: top;\n",
              "    }\n",
              "\n",
              "    .dataframe thead th {\n",
              "        text-align: right;\n",
              "    }\n",
              "</style>\n",
              "<table border=\"1\" class=\"dataframe\">\n",
              "  <thead>\n",
              "    <tr style=\"text-align: right;\">\n",
              "      <th></th>\n",
              "      <th>one</th>\n",
              "      <th>two</th>\n",
              "      <th>three</th>\n",
              "      <th>four</th>\n",
              "    </tr>\n",
              "  </thead>\n",
              "  <tbody>\n",
              "    <tr>\n",
              "      <th>a</th>\n",
              "      <td>0.552535</td>\n",
              "      <td>1.144933</td>\n",
              "      <td>0.569920</td>\n",
              "      <td>None</td>\n",
              "    </tr>\n",
              "    <tr>\n",
              "      <th>c</th>\n",
              "      <td>-1.094971</td>\n",
              "      <td>0.729448</td>\n",
              "      <td>-0.688935</td>\n",
              "      <td>None</td>\n",
              "    </tr>\n",
              "    <tr>\n",
              "      <th>e</th>\n",
              "      <td>0.510150</td>\n",
              "      <td>0.878075</td>\n",
              "      <td>0.578867</td>\n",
              "      <td>None</td>\n",
              "    </tr>\n",
              "    <tr>\n",
              "      <th>f</th>\n",
              "      <td>0.707556</td>\n",
              "      <td>-1.135120</td>\n",
              "      <td>2.038227</td>\n",
              "      <td>None</td>\n",
              "    </tr>\n",
              "    <tr>\n",
              "      <th>h</th>\n",
              "      <td>-0.764885</td>\n",
              "      <td>-0.390368</td>\n",
              "      <td>-0.075548</td>\n",
              "      <td>None</td>\n",
              "    </tr>\n",
              "  </tbody>\n",
              "</table>\n",
              "</div>"
            ]
          },
          "metadata": {
            "tags": []
          },
          "execution_count": 59
        }
      ]
    },
    {
      "metadata": {
        "id": "unm5KSQyx4Em",
        "colab_type": "code",
        "colab": {}
      },
      "cell_type": "code",
      "source": [
        "another_df.fillna(value=pd.np.nan, inplace=True)"
      ],
      "execution_count": 0,
      "outputs": []
    },
    {
      "metadata": {
        "id": "PtIC9h6hyd82",
        "colab_type": "code",
        "colab": {
          "base_uri": "https://localhost:8080/",
          "height": 204
        },
        "outputId": "7b94d32a-65a9-47ee-a2b0-bbb5d3c36f80"
      },
      "cell_type": "code",
      "source": [
        "another_df.head()"
      ],
      "execution_count": 61,
      "outputs": [
        {
          "output_type": "execute_result",
          "data": {
            "text/plain": [
              "        one       two     three  four\n",
              "a  0.552535  1.144933  0.569920   NaN\n",
              "c -1.094971  0.729448 -0.688935   NaN\n",
              "e  0.510150  0.878075  0.578867   NaN\n",
              "f  0.707556 -1.135120  2.038227   NaN\n",
              "h -0.764885 -0.390368 -0.075548   NaN"
            ],
            "text/html": [
              "<div>\n",
              "<style scoped>\n",
              "    .dataframe tbody tr th:only-of-type {\n",
              "        vertical-align: middle;\n",
              "    }\n",
              "\n",
              "    .dataframe tbody tr th {\n",
              "        vertical-align: top;\n",
              "    }\n",
              "\n",
              "    .dataframe thead th {\n",
              "        text-align: right;\n",
              "    }\n",
              "</style>\n",
              "<table border=\"1\" class=\"dataframe\">\n",
              "  <thead>\n",
              "    <tr style=\"text-align: right;\">\n",
              "      <th></th>\n",
              "      <th>one</th>\n",
              "      <th>two</th>\n",
              "      <th>three</th>\n",
              "      <th>four</th>\n",
              "    </tr>\n",
              "  </thead>\n",
              "  <tbody>\n",
              "    <tr>\n",
              "      <th>a</th>\n",
              "      <td>0.552535</td>\n",
              "      <td>1.144933</td>\n",
              "      <td>0.569920</td>\n",
              "      <td>NaN</td>\n",
              "    </tr>\n",
              "    <tr>\n",
              "      <th>c</th>\n",
              "      <td>-1.094971</td>\n",
              "      <td>0.729448</td>\n",
              "      <td>-0.688935</td>\n",
              "      <td>NaN</td>\n",
              "    </tr>\n",
              "    <tr>\n",
              "      <th>e</th>\n",
              "      <td>0.510150</td>\n",
              "      <td>0.878075</td>\n",
              "      <td>0.578867</td>\n",
              "      <td>NaN</td>\n",
              "    </tr>\n",
              "    <tr>\n",
              "      <th>f</th>\n",
              "      <td>0.707556</td>\n",
              "      <td>-1.135120</td>\n",
              "      <td>2.038227</td>\n",
              "      <td>NaN</td>\n",
              "    </tr>\n",
              "    <tr>\n",
              "      <th>h</th>\n",
              "      <td>-0.764885</td>\n",
              "      <td>-0.390368</td>\n",
              "      <td>-0.075548</td>\n",
              "      <td>NaN</td>\n",
              "    </tr>\n",
              "  </tbody>\n",
              "</table>\n",
              "</div>"
            ]
          },
          "metadata": {
            "tags": []
          },
          "execution_count": 61
        }
      ]
    },
    {
      "metadata": {
        "id": "4nxnG_XhyfT2",
        "colab_type": "code",
        "colab": {}
      },
      "cell_type": "code",
      "source": [
        "another_df['five'] = None"
      ],
      "execution_count": 0,
      "outputs": []
    },
    {
      "metadata": {
        "id": "tAVAI5KJysVl",
        "colab_type": "code",
        "colab": {}
      },
      "cell_type": "code",
      "source": [
        "another_df['five'].fillna(value=pd.np.nan, inplace=True)"
      ],
      "execution_count": 0,
      "outputs": []
    },
    {
      "metadata": {
        "id": "jQmAYYteyx0V",
        "colab_type": "code",
        "colab": {
          "base_uri": "https://localhost:8080/",
          "height": 204
        },
        "outputId": "a4501d3d-d020-4aba-ef1a-15dd4c9f15c9"
      },
      "cell_type": "code",
      "source": [
        "another_df.head()"
      ],
      "execution_count": 64,
      "outputs": [
        {
          "output_type": "execute_result",
          "data": {
            "text/plain": [
              "        one       two     three  four  five\n",
              "a  0.552535  1.144933  0.569920   NaN   NaN\n",
              "c -1.094971  0.729448 -0.688935   NaN   NaN\n",
              "e  0.510150  0.878075  0.578867   NaN   NaN\n",
              "f  0.707556 -1.135120  2.038227   NaN   NaN\n",
              "h -0.764885 -0.390368 -0.075548   NaN   NaN"
            ],
            "text/html": [
              "<div>\n",
              "<style scoped>\n",
              "    .dataframe tbody tr th:only-of-type {\n",
              "        vertical-align: middle;\n",
              "    }\n",
              "\n",
              "    .dataframe tbody tr th {\n",
              "        vertical-align: top;\n",
              "    }\n",
              "\n",
              "    .dataframe thead th {\n",
              "        text-align: right;\n",
              "    }\n",
              "</style>\n",
              "<table border=\"1\" class=\"dataframe\">\n",
              "  <thead>\n",
              "    <tr style=\"text-align: right;\">\n",
              "      <th></th>\n",
              "      <th>one</th>\n",
              "      <th>two</th>\n",
              "      <th>three</th>\n",
              "      <th>four</th>\n",
              "      <th>five</th>\n",
              "    </tr>\n",
              "  </thead>\n",
              "  <tbody>\n",
              "    <tr>\n",
              "      <th>a</th>\n",
              "      <td>0.552535</td>\n",
              "      <td>1.144933</td>\n",
              "      <td>0.569920</td>\n",
              "      <td>NaN</td>\n",
              "      <td>NaN</td>\n",
              "    </tr>\n",
              "    <tr>\n",
              "      <th>c</th>\n",
              "      <td>-1.094971</td>\n",
              "      <td>0.729448</td>\n",
              "      <td>-0.688935</td>\n",
              "      <td>NaN</td>\n",
              "      <td>NaN</td>\n",
              "    </tr>\n",
              "    <tr>\n",
              "      <th>e</th>\n",
              "      <td>0.510150</td>\n",
              "      <td>0.878075</td>\n",
              "      <td>0.578867</td>\n",
              "      <td>NaN</td>\n",
              "      <td>NaN</td>\n",
              "    </tr>\n",
              "    <tr>\n",
              "      <th>f</th>\n",
              "      <td>0.707556</td>\n",
              "      <td>-1.135120</td>\n",
              "      <td>2.038227</td>\n",
              "      <td>NaN</td>\n",
              "      <td>NaN</td>\n",
              "    </tr>\n",
              "    <tr>\n",
              "      <th>h</th>\n",
              "      <td>-0.764885</td>\n",
              "      <td>-0.390368</td>\n",
              "      <td>-0.075548</td>\n",
              "      <td>NaN</td>\n",
              "      <td>NaN</td>\n",
              "    </tr>\n",
              "  </tbody>\n",
              "</table>\n",
              "</div>"
            ]
          },
          "metadata": {
            "tags": []
          },
          "execution_count": 64
        }
      ]
    },
    {
      "metadata": {
        "id": "eZ5RjdxBy5KV",
        "colab_type": "code",
        "colab": {
          "base_uri": "https://localhost:8080/",
          "height": 119
        },
        "outputId": "a4b93beb-0ecc-407d-a730-f2271d25d1eb"
      },
      "cell_type": "code",
      "source": [
        "another_df.isnull().any()"
      ],
      "execution_count": 65,
      "outputs": [
        {
          "output_type": "execute_result",
          "data": {
            "text/plain": [
              "one      False\n",
              "two      False\n",
              "three    False\n",
              "four      True\n",
              "five      True\n",
              "dtype: bool"
            ]
          },
          "metadata": {
            "tags": []
          },
          "execution_count": 65
        }
      ]
    },
    {
      "metadata": {
        "id": "jWDi-OVW1eRE",
        "colab_type": "code",
        "colab": {
          "base_uri": "https://localhost:8080/",
          "height": 34
        },
        "outputId": "8935377e-a3e4-41ba-c263-95023897a02c"
      },
      "cell_type": "code",
      "source": [
        "another_df.isnull().any().any()"
      ],
      "execution_count": 66,
      "outputs": [
        {
          "output_type": "execute_result",
          "data": {
            "text/plain": [
              "True"
            ]
          },
          "metadata": {
            "tags": []
          },
          "execution_count": 66
        }
      ]
    },
    {
      "metadata": {
        "id": "aavgeJ9020MD",
        "colab_type": "code",
        "colab": {
          "base_uri": "https://localhost:8080/",
          "height": 204
        },
        "outputId": "673a3c4f-2e00-477a-dcb4-2f6b3993ae79"
      },
      "cell_type": "code",
      "source": [
        "another_df.isnull()"
      ],
      "execution_count": 67,
      "outputs": [
        {
          "output_type": "execute_result",
          "data": {
            "text/plain": [
              "     one    two  three  four  five\n",
              "a  False  False  False  True  True\n",
              "c  False  False  False  True  True\n",
              "e  False  False  False  True  True\n",
              "f  False  False  False  True  True\n",
              "h  False  False  False  True  True"
            ],
            "text/html": [
              "<div>\n",
              "<style scoped>\n",
              "    .dataframe tbody tr th:only-of-type {\n",
              "        vertical-align: middle;\n",
              "    }\n",
              "\n",
              "    .dataframe tbody tr th {\n",
              "        vertical-align: top;\n",
              "    }\n",
              "\n",
              "    .dataframe thead th {\n",
              "        text-align: right;\n",
              "    }\n",
              "</style>\n",
              "<table border=\"1\" class=\"dataframe\">\n",
              "  <thead>\n",
              "    <tr style=\"text-align: right;\">\n",
              "      <th></th>\n",
              "      <th>one</th>\n",
              "      <th>two</th>\n",
              "      <th>three</th>\n",
              "      <th>four</th>\n",
              "      <th>five</th>\n",
              "    </tr>\n",
              "  </thead>\n",
              "  <tbody>\n",
              "    <tr>\n",
              "      <th>a</th>\n",
              "      <td>False</td>\n",
              "      <td>False</td>\n",
              "      <td>False</td>\n",
              "      <td>True</td>\n",
              "      <td>True</td>\n",
              "    </tr>\n",
              "    <tr>\n",
              "      <th>c</th>\n",
              "      <td>False</td>\n",
              "      <td>False</td>\n",
              "      <td>False</td>\n",
              "      <td>True</td>\n",
              "      <td>True</td>\n",
              "    </tr>\n",
              "    <tr>\n",
              "      <th>e</th>\n",
              "      <td>False</td>\n",
              "      <td>False</td>\n",
              "      <td>False</td>\n",
              "      <td>True</td>\n",
              "      <td>True</td>\n",
              "    </tr>\n",
              "    <tr>\n",
              "      <th>f</th>\n",
              "      <td>False</td>\n",
              "      <td>False</td>\n",
              "      <td>False</td>\n",
              "      <td>True</td>\n",
              "      <td>True</td>\n",
              "    </tr>\n",
              "    <tr>\n",
              "      <th>h</th>\n",
              "      <td>False</td>\n",
              "      <td>False</td>\n",
              "      <td>False</td>\n",
              "      <td>True</td>\n",
              "      <td>True</td>\n",
              "    </tr>\n",
              "  </tbody>\n",
              "</table>\n",
              "</div>"
            ]
          },
          "metadata": {
            "tags": []
          },
          "execution_count": 67
        }
      ]
    }
  ]
}